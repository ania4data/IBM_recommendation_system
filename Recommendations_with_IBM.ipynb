{
 "cells": [
  {
   "cell_type": "markdown",
   "metadata": {},
   "source": [
    "# Recommendations with IBM\n",
    "\n",
    "In this notebook, you will be putting your recommendation skills to use on real data from the IBM Watson Studio platform. \n",
    "\n",
    "\n",
    "You may either submit your notebook through the workspace here, or you may work from your local machine and submit through the next page.  Either way assure that your code passes the project [RUBRIC](https://review.udacity.com/#!/rubrics/2322/view).  **Please save regularly.**\n",
    "\n",
    "By following the table of contents, you will build out a number of different methods for making recommendations that can be used for different situations. \n",
    "\n",
    "\n",
    "## Table of Contents\n",
    "\n",
    "I. [Exploratory Data Analysis](#Exploratory-Data-Analysis)<br>\n",
    "II. [Rank Based Recommendations](#Rank)<br>\n",
    "III. [User-User Based Collaborative Filtering](#User-User)<br>\n",
    "IV. [Content Based Recommendations (EXTRA - NOT REQUIRED)](#Content-Recs)<br>\n",
    "V. [Matrix Factorization](#Matrix-Fact)<br>\n",
    "VI. [Extras & Concluding](#conclusions)\n",
    "\n",
    "At the end of the notebook, you will find directions for how to submit your work.  Let's get started by importing the necessary libraries and reading in the data."
   ]
  },
  {
   "cell_type": "code",
   "execution_count": 106,
   "metadata": {
    "scrolled": true
   },
   "outputs": [
    {
     "data": {
      "text/html": [
       "<div>\n",
       "<style scoped>\n",
       "    .dataframe tbody tr th:only-of-type {\n",
       "        vertical-align: middle;\n",
       "    }\n",
       "\n",
       "    .dataframe tbody tr th {\n",
       "        vertical-align: top;\n",
       "    }\n",
       "\n",
       "    .dataframe thead th {\n",
       "        text-align: right;\n",
       "    }\n",
       "</style>\n",
       "<table border=\"1\" class=\"dataframe\">\n",
       "  <thead>\n",
       "    <tr style=\"text-align: right;\">\n",
       "      <th></th>\n",
       "      <th>article_id</th>\n",
       "      <th>title</th>\n",
       "      <th>email</th>\n",
       "    </tr>\n",
       "  </thead>\n",
       "  <tbody>\n",
       "    <tr>\n",
       "      <th>0</th>\n",
       "      <td>1430.0</td>\n",
       "      <td>using pixiedust for fast, flexible, and easier...</td>\n",
       "      <td>ef5f11f77ba020cd36e1105a00ab868bbdbf7fe7</td>\n",
       "    </tr>\n",
       "    <tr>\n",
       "      <th>1</th>\n",
       "      <td>1314.0</td>\n",
       "      <td>healthcare python streaming application demo</td>\n",
       "      <td>083cbdfa93c8444beaa4c5f5e0f5f9198e4f9e0b</td>\n",
       "    </tr>\n",
       "    <tr>\n",
       "      <th>2</th>\n",
       "      <td>1429.0</td>\n",
       "      <td>use deep learning for image classification</td>\n",
       "      <td>b96a4f2e92d8572034b1e9b28f9ac673765cd074</td>\n",
       "    </tr>\n",
       "    <tr>\n",
       "      <th>3</th>\n",
       "      <td>1338.0</td>\n",
       "      <td>ml optimization using cognitive assistant</td>\n",
       "      <td>06485706b34a5c9bf2a0ecdac41daf7e7654ceb7</td>\n",
       "    </tr>\n",
       "    <tr>\n",
       "      <th>4</th>\n",
       "      <td>1276.0</td>\n",
       "      <td>deploy your python model as a restful api</td>\n",
       "      <td>f01220c46fc92c6e6b161b1849de11faacd7ccb2</td>\n",
       "    </tr>\n",
       "  </tbody>\n",
       "</table>\n",
       "</div>"
      ],
      "text/plain": [
       "   article_id                                              title  \\\n",
       "0      1430.0  using pixiedust for fast, flexible, and easier...   \n",
       "1      1314.0       healthcare python streaming application demo   \n",
       "2      1429.0         use deep learning for image classification   \n",
       "3      1338.0          ml optimization using cognitive assistant   \n",
       "4      1276.0          deploy your python model as a restful api   \n",
       "\n",
       "                                      email  \n",
       "0  ef5f11f77ba020cd36e1105a00ab868bbdbf7fe7  \n",
       "1  083cbdfa93c8444beaa4c5f5e0f5f9198e4f9e0b  \n",
       "2  b96a4f2e92d8572034b1e9b28f9ac673765cd074  \n",
       "3  06485706b34a5c9bf2a0ecdac41daf7e7654ceb7  \n",
       "4  f01220c46fc92c6e6b161b1849de11faacd7ccb2  "
      ]
     },
     "execution_count": 106,
     "metadata": {},
     "output_type": "execute_result"
    }
   ],
   "source": [
    "import pandas as pd\n",
    "import numpy as np\n",
    "import matplotlib.pyplot as plt\n",
    "import project_tests as t\n",
    "import pickle\n",
    "from sklearn.metrics import f1_score, accuracy_score, confusion_matrix\n",
    "\n",
    "%matplotlib inline\n",
    "\n",
    "df = pd.read_csv('data/user-item-interactions.csv')\n",
    "df_content = pd.read_csv('data/articles_community.csv')\n",
    "del df['Unnamed: 0']\n",
    "del df_content['Unnamed: 0']\n",
    "\n",
    "# Show df to get an idea of the data\n",
    "df.head()"
   ]
  },
  {
   "cell_type": "markdown",
   "metadata": {},
   "source": [
    "### <a class=\"anchor\" id=\"Exploratory-Data-Analysis\">Part I : Exploratory Data Analysis</a>\n",
    "\n",
    "Use the dictionary and cells below to provide some insight into the descriptive statistics of the data.\n",
    "\n",
    "`1.` What is the distribution of how many articles a user interacts with in the dataset?  Provide a visual and descriptive statistics to assist with giving a look at the number of times each user interacts with an article.  "
   ]
  },
  {
   "cell_type": "code",
   "execution_count": 2,
   "metadata": {},
   "outputs": [
    {
     "data": {
      "text/plain": [
       "5148"
      ]
     },
     "execution_count": 2,
     "metadata": {},
     "output_type": "execute_result"
    }
   ],
   "source": [
    "df.email.nunique()"
   ]
  },
  {
   "cell_type": "code",
   "execution_count": 3,
   "metadata": {},
   "outputs": [],
   "source": [
    "count_article_per_user = df.groupby(by='email').article_id.count()"
   ]
  },
  {
   "cell_type": "code",
   "execution_count": 19,
   "metadata": {
    "scrolled": false
   },
   "outputs": [
    {
     "name": "stdout",
     "output_type": "stream",
     "text": [
      "count    5148.000000\n",
      "mean        8.930847\n",
      "std        16.802267\n",
      "min         1.000000\n",
      "25%         1.000000\n",
      "50%         3.000000\n",
      "75%         9.000000\n",
      "max       364.000000\n",
      "Name: article_id, dtype: float64\n"
     ]
    },
    {
     "data": {
      "image/png": "[encoded data removed]",
      "text/plain": [
       "<Figure size 432x288 with 1 Axes>"
      ]
     },
     "metadata": {},
     "output_type": "display_data"
    }
   ],
   "source": [
    "# article count is total, not just unique cases\n",
    "print(count_article_per_user.describe())\n",
    "plt.hist(count_article_per_user.values,bins=350);\n",
    "plt.xlim([0, 100])\n",
    "plt.grid()\n",
    "plt.xlabel('Count of interactions (all interactions)')\n",
    "plt.ylabel('count of users')\n",
    "plt.title('Count of number of interaction with articles vs. number of users with  that interaction value from IBM platform');"
   ]
  },
  {
   "cell_type": "markdown",
   "metadata": {},
   "source": [
    "Most of users interacted on average 3 time with articles. About 25% of population have viewed over 9 articles even up to 364 ineraction"
   ]
  },
  {
   "cell_type": "code",
   "execution_count": 20,
   "metadata": {},
   "outputs": [
    {
     "data": {
      "image/png": "[encoded data removed]",
      "text/plain": [
       "<Figure size 864x288 with 1 Axes>"
      ]
     },
     "metadata": {},
     "output_type": "display_data"
    }
   ],
   "source": [
    "plt.figure(figsize=(12,4))\n",
    "plt.plot(np.arange(0, df.email.nunique()), count_article_per_user.values)\n",
    "plt.xlabel('User temporary ids')\n",
    "plt.ylabel('Count of viewing (all interactions)')\n",
    "plt.xlim([-1,5150]);\n",
    "plt.grid()"
   ]
  },
  {
   "cell_type": "code",
   "execution_count": 21,
   "metadata": {},
   "outputs": [],
   "source": [
    "count_article_per_user_article = df.groupby(by=['email','article_id']).article_id.count()"
   ]
  },
  {
   "cell_type": "code",
   "execution_count": 22,
   "metadata": {
    "scrolled": false
   },
   "outputs": [
    {
     "name": "stdout",
     "output_type": "stream",
     "text": [
      "count    33669.000000\n",
      "mean         1.365529\n",
      "std          1.175020\n",
      "min          1.000000\n",
      "25%          1.000000\n",
      "50%          1.000000\n",
      "75%          1.000000\n",
      "max         42.000000\n",
      "Name: article_id, dtype: float64\n"
     ]
    },
    {
     "data": {
      "image/png": "[encoded data removed]",
      "text/plain": [
       "<Figure size 432x288 with 1 Axes>"
      ]
     },
     "metadata": {},
     "output_type": "display_data"
    }
   ],
   "source": [
    "print(count_article_per_user_article.describe())\n",
    "plt.hist(count_article_per_user_article.values, bins=40);\n",
    "plt.xlim([0, 10])\n",
    "plt.grid()\n",
    "plt.xlabel('Count of interactions (unique interactions)')\n",
    "plt.ylabel('count of users')\n",
    "plt.xticks(np.arange(min(count_article_per_user_article.values), 20+1, 1.0));\n",
    "plt.title('Count of number of interaction with articles vs. number of users with that interaction value from IBM platform');"
   ]
  },
  {
   "cell_type": "code",
   "execution_count": 27,
   "metadata": {},
   "outputs": [],
   "source": [
    "# Fill in the median and maximum number of user_article interactios below\n",
    "\n",
    "median_val = 3 # 50% of individuals interact with ____ number of articles or fewer.\n",
    "max_views_by_user = 364 # The maximum number of user-article interactions by any 1 user is ______."
   ]
  },
  {
   "cell_type": "markdown",
   "metadata": {},
   "source": [
    "`2.` Explore and remove duplicate articles from the **df_content** dataframe.  "
   ]
  },
  {
   "cell_type": "code",
   "execution_count": 28,
   "metadata": {},
   "outputs": [
    {
     "data": {
      "text/plain": [
       "(1056, 5)"
      ]
     },
     "execution_count": 28,
     "metadata": {},
     "output_type": "execute_result"
    }
   ],
   "source": [
    "# Find and explore duplicate articles\n",
    "df_content.shape"
   ]
  },
  {
   "cell_type": "code",
   "execution_count": 29,
   "metadata": {},
   "outputs": [
    {
     "data": {
      "text/plain": [
       "doc_body           1036\n",
       "doc_description    1022\n",
       "doc_full_name      1051\n",
       "doc_status            1\n",
       "article_id         1051\n",
       "dtype: int64"
      ]
     },
     "execution_count": 29,
     "metadata": {},
     "output_type": "execute_result"
    }
   ],
   "source": [
    "df_content.nunique()"
   ]
  },
  {
   "cell_type": "code",
   "execution_count": 31,
   "metadata": {},
   "outputs": [
    {
     "data": {
      "text/plain": [
       "['doc_body', 'doc_description', 'doc_full_name', 'doc_status', 'article_id']"
      ]
     },
     "execution_count": 31,
     "metadata": {},
     "output_type": "execute_result"
    }
   ],
   "source": [
    "list(df_content.columns)"
   ]
  },
  {
   "cell_type": "code",
   "execution_count": 32,
   "metadata": {},
   "outputs": [],
   "source": [
    "# duplicate removed\n",
    "df_content_clean = df_content.drop_duplicates(subset=['article_id','doc_full_name', 'doc_status'])"
   ]
  },
  {
   "cell_type": "code",
   "execution_count": 33,
   "metadata": {},
   "outputs": [
    {
     "data": {
      "text/plain": [
       "(1051,)"
      ]
     },
     "execution_count": 33,
     "metadata": {},
     "output_type": "execute_result"
    }
   ],
   "source": [
    "df_content.groupby(by=['article_id','doc_full_name', 'doc_status', 'doc_description', 'doc_description'])['article_id'].count().shape"
   ]
  },
  {
   "cell_type": "code",
   "execution_count": 34,
   "metadata": {},
   "outputs": [
    {
     "data": {
      "text/plain": [
       "(1051, 5)"
      ]
     },
     "execution_count": 34,
     "metadata": {},
     "output_type": "execute_result"
    }
   ],
   "source": [
    "df_content_clean.shape"
   ]
  },
  {
   "cell_type": "markdown",
   "metadata": {},
   "source": [
    "`3.` Use the cells below to find:\n",
    "\n",
    "**a.** The number of unique articles that have an interaction with a user.  \n",
    "**b.** The number of unique articles in the dataset (whether they have any interactions or not).<br>\n",
    "**c.** The number of unique users in the dataset. (excluding null values) <br>\n",
    "**d.** The number of user-article interactions in the dataset."
   ]
  },
  {
   "cell_type": "code",
   "execution_count": 35,
   "metadata": {},
   "outputs": [],
   "source": [
    "count_user_per_article = df.groupby(by='article_id').email.count()"
   ]
  },
  {
   "cell_type": "code",
   "execution_count": 36,
   "metadata": {},
   "outputs": [
    {
     "data": {
      "text/plain": [
       "714"
      ]
     },
     "execution_count": 36,
     "metadata": {},
     "output_type": "execute_result"
    }
   ],
   "source": [
    "df.article_id.nunique()"
   ]
  },
  {
   "cell_type": "code",
   "execution_count": 37,
   "metadata": {},
   "outputs": [
    {
     "data": {
      "text/plain": [
       "article_id     0\n",
       "title          0\n",
       "email         17\n",
       "dtype: int64"
      ]
     },
     "execution_count": 37,
     "metadata": {},
     "output_type": "execute_result"
    }
   ],
   "source": [
    "df.isnull().sum()"
   ]
  },
  {
   "cell_type": "code",
   "execution_count": 38,
   "metadata": {},
   "outputs": [
    {
     "data": {
      "text/plain": [
       "(45993, 3)"
      ]
     },
     "execution_count": 38,
     "metadata": {},
     "output_type": "execute_result"
    }
   ],
   "source": [
    "df.shape"
   ]
  },
  {
   "cell_type": "code",
   "execution_count": 40,
   "metadata": {},
   "outputs": [
    {
     "data": {
      "text/plain": [
       "5148"
      ]
     },
     "execution_count": 40,
     "metadata": {},
     "output_type": "execute_result"
    }
   ],
   "source": [
    "df.dropna().email.nunique()"
   ]
  },
  {
   "cell_type": "code",
   "execution_count": 42,
   "metadata": {},
   "outputs": [],
   "source": [
    "unique_articles = 714 # The number of unique articles that have at least one interaction\n",
    "total_articles = 1051 # (from content) The number of unique articles on the IBM platform\n",
    "unique_users = 5148 # The number of unique users\n",
    "\n",
    "# Question is not clear whether looking for number of unique interaction or not\n",
    "user_article_interactions =  45993 # The number of user-article interactions (total: not unique, include NaN and duplicates)\n"
   ]
  },
  {
   "cell_type": "markdown",
   "metadata": {},
   "source": [
    "`4.` Use the cells below to find the most viewed **article_id**, as well as how often it was viewed.  After talking to the company leaders, the `email_mapper` function was deemed a reasonable way to map users to ids.  There were a small number of null values, and it was found that all of these null values likely belonged to a single user (which is how they are stored using the function below)."
   ]
  },
  {
   "cell_type": "code",
   "execution_count": 43,
   "metadata": {},
   "outputs": [
    {
     "data": {
      "text/html": [
       "<div>\n",
       "<style scoped>\n",
       "    .dataframe tbody tr th:only-of-type {\n",
       "        vertical-align: middle;\n",
       "    }\n",
       "\n",
       "    .dataframe tbody tr th {\n",
       "        vertical-align: top;\n",
       "    }\n",
       "\n",
       "    .dataframe thead th {\n",
       "        text-align: right;\n",
       "    }\n",
       "</style>\n",
       "<table border=\"1\" class=\"dataframe\">\n",
       "  <thead>\n",
       "    <tr style=\"text-align: right;\">\n",
       "      <th></th>\n",
       "      <th>title</th>\n",
       "      <th>email</th>\n",
       "    </tr>\n",
       "    <tr>\n",
       "      <th>article_id</th>\n",
       "      <th></th>\n",
       "      <th></th>\n",
       "    </tr>\n",
       "  </thead>\n",
       "  <tbody>\n",
       "    <tr>\n",
       "      <th>1429</th>\n",
       "      <td>937</td>\n",
       "      <td>937</td>\n",
       "    </tr>\n",
       "    <tr>\n",
       "      <th>1330</th>\n",
       "      <td>927</td>\n",
       "      <td>927</td>\n",
       "    </tr>\n",
       "    <tr>\n",
       "      <th>1431</th>\n",
       "      <td>671</td>\n",
       "      <td>671</td>\n",
       "    </tr>\n",
       "    <tr>\n",
       "      <th>1427</th>\n",
       "      <td>643</td>\n",
       "      <td>643</td>\n",
       "    </tr>\n",
       "    <tr>\n",
       "      <th>1364</th>\n",
       "      <td>627</td>\n",
       "      <td>627</td>\n",
       "    </tr>\n",
       "    <tr>\n",
       "      <th>1314</th>\n",
       "      <td>614</td>\n",
       "      <td>614</td>\n",
       "    </tr>\n",
       "    <tr>\n",
       "      <th>1293</th>\n",
       "      <td>572</td>\n",
       "      <td>572</td>\n",
       "    </tr>\n",
       "    <tr>\n",
       "      <th>1170</th>\n",
       "      <td>565</td>\n",
       "      <td>565</td>\n",
       "    </tr>\n",
       "    <tr>\n",
       "      <th>1162</th>\n",
       "      <td>512</td>\n",
       "      <td>512</td>\n",
       "    </tr>\n",
       "    <tr>\n",
       "      <th>1304</th>\n",
       "      <td>483</td>\n",
       "      <td>483</td>\n",
       "    </tr>\n",
       "  </tbody>\n",
       "</table>\n",
       "</div>"
      ],
      "text/plain": [
       "            title  email\n",
       "article_id              \n",
       "1429          937    937\n",
       "1330          927    927\n",
       "1431          671    671\n",
       "1427          643    643\n",
       "1364          627    627\n",
       "1314          614    614\n",
       "1293          572    572\n",
       "1170          565    565\n",
       "1162          512    512\n",
       "1304          483    483"
      ]
     },
     "execution_count": 43,
     "metadata": {},
     "output_type": "execute_result"
    }
   ],
   "source": [
    "df.groupby(by='article_id').count().sort_values(by=['email'], ascending=False).iloc[0:10,:]"
   ]
  },
  {
   "cell_type": "code",
   "execution_count": 44,
   "metadata": {},
   "outputs": [],
   "source": [
    "most_viewed_article_id = '1429.0'  # The most viewed article in the dataset as a string with one value following the decimal \n",
    "max_views = 937 # The most viewed article in the dataset was viewed how many times?"
   ]
  },
  {
   "cell_type": "code",
   "execution_count": 323,
   "metadata": {},
   "outputs": [
    {
     "name": "stdout",
     "output_type": "stream",
     "text": [
      "unique email, excluding nan 5148\n",
      "unique userid, replaced nan 5149\n"
     ]
    },
    {
     "data": {
      "text/html": [
       "<div>\n",
       "<style scoped>\n",
       "    .dataframe tbody tr th:only-of-type {\n",
       "        vertical-align: middle;\n",
       "    }\n",
       "\n",
       "    .dataframe tbody tr th {\n",
       "        vertical-align: top;\n",
       "    }\n",
       "\n",
       "    .dataframe thead th {\n",
       "        text-align: right;\n",
       "    }\n",
       "</style>\n",
       "<table border=\"1\" class=\"dataframe\">\n",
       "  <thead>\n",
       "    <tr style=\"text-align: right;\">\n",
       "      <th></th>\n",
       "      <th>article_id</th>\n",
       "      <th>title</th>\n",
       "      <th>user_id</th>\n",
       "    </tr>\n",
       "  </thead>\n",
       "  <tbody>\n",
       "    <tr>\n",
       "      <th>0</th>\n",
       "      <td>1430</td>\n",
       "      <td>using pixiedust for fast, flexible, and easier...</td>\n",
       "      <td>1</td>\n",
       "    </tr>\n",
       "    <tr>\n",
       "      <th>1</th>\n",
       "      <td>1314</td>\n",
       "      <td>healthcare python streaming application demo</td>\n",
       "      <td>2</td>\n",
       "    </tr>\n",
       "    <tr>\n",
       "      <th>2</th>\n",
       "      <td>1429</td>\n",
       "      <td>use deep learning for image classification</td>\n",
       "      <td>3</td>\n",
       "    </tr>\n",
       "    <tr>\n",
       "      <th>3</th>\n",
       "      <td>1338</td>\n",
       "      <td>ml optimization using cognitive assistant</td>\n",
       "      <td>4</td>\n",
       "    </tr>\n",
       "    <tr>\n",
       "      <th>4</th>\n",
       "      <td>1276</td>\n",
       "      <td>deploy your python model as a restful api</td>\n",
       "      <td>5</td>\n",
       "    </tr>\n",
       "  </tbody>\n",
       "</table>\n",
       "</div>"
      ],
      "text/plain": [
       "   article_id                                              title  user_id\n",
       "0        1430  using pixiedust for fast, flexible, and easier...        1\n",
       "1        1314       healthcare python streaming application demo        2\n",
       "2        1429         use deep learning for image classification        3\n",
       "3        1338          ml optimization using cognitive assistant        4\n",
       "4        1276          deploy your python model as a restful api        5"
      ]
     },
     "execution_count": 323,
     "metadata": {},
     "output_type": "execute_result"
    }
   ],
   "source": [
    "## No need to change the code here - this will be helpful for later parts of the notebook\n",
    "# Run this cell to map the user email to a user_id column and remove the email column\n",
    "\n",
    "def email_mapper():\n",
    "    coded_dict = dict()\n",
    "    cter = 1\n",
    "    email_encoded = []\n",
    "    \n",
    "    for val in df['email']:\n",
    "        if val not in coded_dict:\n",
    "            coded_dict[val] = cter\n",
    "            cter+=1\n",
    "        \n",
    "        email_encoded.append(coded_dict[val])\n",
    "    return email_encoded\n",
    "\n",
    "email_encoded = email_mapper()\n",
    "print('unique email, excluding nan',df.email.nunique())\n",
    "del df['email']\n",
    "df['user_id'] = email_encoded\n",
    "print('unique userid, replaced nan',df.user_id.nunique())\n",
    "df.article_id = df.article_id.astype('int64')\n",
    "# show header\n",
    "df.head()"
   ]
  },
  {
   "cell_type": "code",
   "execution_count": 46,
   "metadata": {},
   "outputs": [
    {
     "name": "stdout",
     "output_type": "stream",
     "text": [
      "It looks like you have everything right here! Nice job!\n"
     ]
    }
   ],
   "source": [
    "## If you stored all your results in the variable names above, \n",
    "## you shouldn't need to change anything in this cell\n",
    "\n",
    "sol_1_dict = {\n",
    "    '`50% of individuals have _____ or fewer interactions.`': median_val,\n",
    "    '`The total number of user-article interactions in the dataset is ______.`': user_article_interactions,\n",
    "    '`The maximum number of user-article interactions by any 1 user is ______.`': max_views_by_user,\n",
    "    '`The most viewed article in the dataset was viewed _____ times.`': max_views,\n",
    "    '`The article_id of the most viewed article is ______.`': most_viewed_article_id,\n",
    "    '`The number of unique articles that have at least 1 rating ______.`': unique_articles,\n",
    "    '`The number of unique users in the dataset is ______`': unique_users,\n",
    "    '`The number of unique articles on the IBM platform`': total_articles\n",
    "}\n",
    "\n",
    "# Test your dictionary against the solution\n",
    "t.sol_1_test(sol_1_dict)"
   ]
  },
  {
   "cell_type": "code",
   "execution_count": 52,
   "metadata": {},
   "outputs": [
    {
     "name": "stdout",
     "output_type": "stream",
     "text": [
      "Detect Malfunctioning IoT Sensors with Streaming Analytics\n",
      "Detect bad readings in real time using Python and Streaming Analytics.\n"
     ]
    }
   ],
   "source": [
    "print(df_content_clean.doc_full_name.loc[0])\n",
    "print(df_content_clean.doc_description.loc[0])"
   ]
  },
  {
   "cell_type": "markdown",
   "metadata": {},
   "source": [
    "### <a class=\"anchor\" id=\"Rank\">Part II: Rank-Based Recommendations</a>\n",
    "\n",
    "Unlike in the earlier lessons, we don't actually have ratings for whether a user liked an article or not.  We only know that a user has interacted with an article.  In these cases, the popularity of an article can really only be based on how often an article was interacted with.\n",
    "\n",
    "`1.` Fill in the function below to return the **n** top articles ordered with most interactions as the top. Test your function using the tests below."
   ]
  },
  {
   "cell_type": "code",
   "execution_count": 53,
   "metadata": {},
   "outputs": [
    {
     "data": {
      "text/html": [
       "<div>\n",
       "<style scoped>\n",
       "    .dataframe tbody tr th:only-of-type {\n",
       "        vertical-align: middle;\n",
       "    }\n",
       "\n",
       "    .dataframe tbody tr th {\n",
       "        vertical-align: top;\n",
       "    }\n",
       "\n",
       "    .dataframe thead th {\n",
       "        text-align: right;\n",
       "    }\n",
       "</style>\n",
       "<table border=\"1\" class=\"dataframe\">\n",
       "  <thead>\n",
       "    <tr style=\"text-align: right;\">\n",
       "      <th></th>\n",
       "      <th>article_id</th>\n",
       "      <th>title</th>\n",
       "      <th>user_id</th>\n",
       "    </tr>\n",
       "  </thead>\n",
       "  <tbody>\n",
       "    <tr>\n",
       "      <th>0</th>\n",
       "      <td>1430</td>\n",
       "      <td>using pixiedust for fast, flexible, and easier...</td>\n",
       "      <td>1</td>\n",
       "    </tr>\n",
       "    <tr>\n",
       "      <th>1</th>\n",
       "      <td>1314</td>\n",
       "      <td>healthcare python streaming application demo</td>\n",
       "      <td>2</td>\n",
       "    </tr>\n",
       "    <tr>\n",
       "      <th>2</th>\n",
       "      <td>1429</td>\n",
       "      <td>use deep learning for image classification</td>\n",
       "      <td>3</td>\n",
       "    </tr>\n",
       "    <tr>\n",
       "      <th>3</th>\n",
       "      <td>1338</td>\n",
       "      <td>ml optimization using cognitive assistant</td>\n",
       "      <td>4</td>\n",
       "    </tr>\n",
       "    <tr>\n",
       "      <th>4</th>\n",
       "      <td>1276</td>\n",
       "      <td>deploy your python model as a restful api</td>\n",
       "      <td>5</td>\n",
       "    </tr>\n",
       "  </tbody>\n",
       "</table>\n",
       "</div>"
      ],
      "text/plain": [
       "   article_id                                              title  user_id\n",
       "0        1430  using pixiedust for fast, flexible, and easier...        1\n",
       "1        1314       healthcare python streaming application demo        2\n",
       "2        1429         use deep learning for image classification        3\n",
       "3        1338          ml optimization using cognitive assistant        4\n",
       "4        1276          deploy your python model as a restful api        5"
      ]
     },
     "execution_count": 53,
     "metadata": {},
     "output_type": "execute_result"
    }
   ],
   "source": [
    "df.head()"
   ]
  },
  {
   "cell_type": "code",
   "execution_count": 54,
   "metadata": {},
   "outputs": [
    {
     "data": {
      "text/html": [
       "<div>\n",
       "<style scoped>\n",
       "    .dataframe tbody tr th:only-of-type {\n",
       "        vertical-align: middle;\n",
       "    }\n",
       "\n",
       "    .dataframe tbody tr th {\n",
       "        vertical-align: top;\n",
       "    }\n",
       "\n",
       "    .dataframe thead th {\n",
       "        text-align: right;\n",
       "    }\n",
       "</style>\n",
       "<table border=\"1\" class=\"dataframe\">\n",
       "  <thead>\n",
       "    <tr style=\"text-align: right;\">\n",
       "      <th></th>\n",
       "      <th>article_id</th>\n",
       "      <th>title</th>\n",
       "    </tr>\n",
       "  </thead>\n",
       "  <tbody>\n",
       "    <tr>\n",
       "      <th>0</th>\n",
       "      <td>1430</td>\n",
       "      <td>using pixiedust for fast, flexible, and easier...</td>\n",
       "    </tr>\n",
       "    <tr>\n",
       "      <th>1</th>\n",
       "      <td>1314</td>\n",
       "      <td>healthcare python streaming application demo</td>\n",
       "    </tr>\n",
       "    <tr>\n",
       "      <th>2</th>\n",
       "      <td>1429</td>\n",
       "      <td>use deep learning for image classification</td>\n",
       "    </tr>\n",
       "    <tr>\n",
       "      <th>3</th>\n",
       "      <td>1338</td>\n",
       "      <td>ml optimization using cognitive assistant</td>\n",
       "    </tr>\n",
       "    <tr>\n",
       "      <th>4</th>\n",
       "      <td>1276</td>\n",
       "      <td>deploy your python model as a restful api</td>\n",
       "    </tr>\n",
       "  </tbody>\n",
       "</table>\n",
       "</div>"
      ],
      "text/plain": [
       "   article_id                                              title\n",
       "0        1430  using pixiedust for fast, flexible, and easier...\n",
       "1        1314       healthcare python streaming application demo\n",
       "2        1429         use deep learning for image classification\n",
       "3        1338          ml optimization using cognitive assistant\n",
       "4        1276          deploy your python model as a restful api"
      ]
     },
     "execution_count": 54,
     "metadata": {},
     "output_type": "execute_result"
    }
   ],
   "source": [
    "df_clean_id_title= df[['article_id','title']].drop_duplicates()\n",
    "df_clean_id_title.head()"
   ]
  },
  {
   "cell_type": "code",
   "execution_count": 55,
   "metadata": {},
   "outputs": [],
   "source": [
    "# dictionary of item name and its id\n",
    "dict_articleid_title = {}\n",
    "dict_articleid_title = df_clean_id_title.set_index('article_id').T.to_dict('list')"
   ]
  },
  {
   "cell_type": "code",
   "execution_count": 56,
   "metadata": {},
   "outputs": [
    {
     "data": {
      "text/plain": [
       "'deploy your python model as a restful api'"
      ]
     },
     "execution_count": 56,
     "metadata": {},
     "output_type": "execute_result"
    }
   ],
   "source": [
    "dict_articleid_title[1276][0]"
   ]
  },
  {
   "cell_type": "code",
   "execution_count": 318,
   "metadata": {},
   "outputs": [],
   "source": [
    "\n",
    "def get_top_articles(n, df=df):\n",
    "    '''\n",
    "    INPUT:\n",
    "    n - (int) the number of top articles to return\n",
    "    df - (pandas dataframe) df as defined at the top of the notebook \n",
    "    \n",
    "    OUTPUT:\n",
    "    top_articles - (list) A list of the top 'n' article titles \n",
    "    \n",
    "    '''\n",
    "    top_ids_list = get_top_article_ids(n, df)\n",
    "    top_n_df = df.groupby(by=['article_id']).count().sort_values(by='title', ascending=False).reset_index().iloc[0:n]\n",
    "    top_n_df = top_n_df.reset_index() \n",
    "    unique_id_title = df[['article_id','title']].drop_duplicates()\n",
    "    unique_id_title = unique_id_title[unique_id_title.article_id.isin(top_ids_list)]\n",
    "    top_articles = list(top_n_df.merge(unique_id_title, on='article_id', suffixes=('_', '')).title.values)\n",
    "\n",
    "    return top_articles # Return the top article titles from df (not df_content)\n",
    "\n",
    "def get_top_article_ids(n, df=df):\n",
    "    '''\n",
    "    INPUT:\n",
    "    n - (int) the number of top articles to return\n",
    "    df - (pandas dataframe) df as defined at the top of the notebook \n",
    "    \n",
    "    OUTPUT:\n",
    "    top_articles - (list) A list of the top 'n' article ids\n",
    "    \n",
    "    '''\n",
    "    df.article_id = df.article_id.astype('int64')\n",
    "    ids_list = list(df.groupby(by=['article_id']).count().sort_values(by='title', ascending=False)\n",
    "                    .reset_index().iloc[0:n].article_id.values)\n",
    "    top_articles = ids_list\n",
    "    \n",
    "    return top_articles # Return the top article ids"
   ]
  },
  {
   "cell_type": "code",
   "execution_count": 58,
   "metadata": {},
   "outputs": [
    {
     "name": "stdout",
     "output_type": "stream",
     "text": [
      "['use deep learning for image classification', 'insights from new york car accident reports', 'visualize car data with brunel', 'use xgboost, scikit-learn & ibm watson machine learning apis', 'predicting churn with the spss random tree algorithm', 'healthcare python streaming application demo', 'finding optimal locations of new store using decision optimization', 'apache spark lab, part 1: basic concepts', 'analyze energy consumption in buildings', 'gosales transactions for logistic regression model']\n",
      "[1429, 1330, 1431, 1427, 1364, 1314, 1293, 1170, 1162, 1304]\n"
     ]
    }
   ],
   "source": [
    "print(get_top_articles(10))\n",
    "print(get_top_article_ids(10))"
   ]
  },
  {
   "cell_type": "code",
   "execution_count": 59,
   "metadata": {},
   "outputs": [
    {
     "name": "stdout",
     "output_type": "stream",
     "text": [
      "Your top_5 looks like the solution list! Nice job.\n",
      "Your top_10 looks like the solution list! Nice job.\n",
      "Your top_20 looks like the solution list! Nice job.\n"
     ]
    }
   ],
   "source": [
    "# Test your function by returning the top 5, 10, and 20 articles\n",
    "top_5 = get_top_articles(5)\n",
    "top_10 = get_top_articles(10)\n",
    "top_20 = get_top_articles(20)\n",
    "\n",
    "# Test each of your three lists from above\n",
    "t.sol_2_test(get_top_articles)"
   ]
  },
  {
   "cell_type": "markdown",
   "metadata": {},
   "source": [
    "### <a class=\"anchor\" id=\"User-User\">Part III: User-User Based Collaborative Filtering</a>\n",
    "\n",
    "\n",
    "`1.` Use the function below to reformat the **df** dataframe to be shaped with users as the rows and articles as the columns.  \n",
    "\n",
    "* Each **user** should only appear in each **row** once.\n",
    "\n",
    "\n",
    "* Each **article** should only show up in one **column**.  \n",
    "\n",
    "\n",
    "* **If a user has interacted with an article, then place a 1 where the user-row meets for that article-column**.  It does not matter how many times a user has interacted with the article, all entries where a user has interacted with an article should be a 1.  \n",
    "\n",
    "\n",
    "* **If a user has not interacted with an item, then place a zero where the user-row meets for that article-column**. \n",
    "\n",
    "Use the tests to make sure the basic structure of your matrix matches what is expected by the solution."
   ]
  },
  {
   "cell_type": "code",
   "execution_count": 60,
   "metadata": {},
   "outputs": [],
   "source": [
    "df_no_duplicate = df.drop_duplicates()"
   ]
  },
  {
   "cell_type": "code",
   "execution_count": 61,
   "metadata": {},
   "outputs": [],
   "source": [
    "# create the user-article matrix with 1's and 0's\n",
    "# Note the Description originally said matrix but test passes when output was dataframe, so added both cases\n",
    "\n",
    "def create_user_item_matrix(df):\n",
    "    '''\n",
    "    INPUT:\n",
    "    df - pandas dataframe with article_id, title, user_id columns\n",
    "    \n",
    "    OUTPUT:\n",
    "    user_item - user item dataframe\n",
    "    user_item_matrix - user item matrix\n",
    "    Description:\n",
    "    \n",
    "    Return a matrix and a dataframe with user ids as rows and article ids on the columns with 1 values where a user interacted with \n",
    "    an article and a 0 otherwise\n",
    "    '''\n",
    "    df_no_duplicate = df.drop_duplicates()\n",
    "    user_id_list = df_no_duplicate.user_id.unique()  #unique\n",
    "    article_id_list = df_no_duplicate.article_id.unique() #unique\n",
    "    \n",
    "    user_item_matrix = np.zeros((len(user_id_list), len(article_id_list)))\n",
    "    user_item = pd.DataFrame(user_item_matrix, columns=article_id_list, index=user_id_list)\n",
    "    for user_id, article_id in df_no_duplicate[['user_id', 'article_id']].values:\n",
    "        row = np.where(user_id_list == user_id)[0][0]\n",
    "        col = np.where(article_id_list == article_id)[0][0]\n",
    "        user_item_matrix[row, col] = 1\n",
    "        user_item.loc[user_id, article_id] = 1\n",
    "    \n",
    "    return user_item, user_item_matrix # return the user_item matrix \n",
    "\n",
    "user_item, user_item_matrix = create_user_item_matrix(df)"
   ]
  },
  {
   "cell_type": "code",
   "execution_count": 62,
   "metadata": {},
   "outputs": [
    {
     "data": {
      "text/html": [
       "<div>\n",
       "<style scoped>\n",
       "    .dataframe tbody tr th:only-of-type {\n",
       "        vertical-align: middle;\n",
       "    }\n",
       "\n",
       "    .dataframe tbody tr th {\n",
       "        vertical-align: top;\n",
       "    }\n",
       "\n",
       "    .dataframe thead th {\n",
       "        text-align: right;\n",
       "    }\n",
       "</style>\n",
       "<table border=\"1\" class=\"dataframe\">\n",
       "  <thead>\n",
       "    <tr style=\"text-align: right;\">\n",
       "      <th></th>\n",
       "      <th>1430</th>\n",
       "      <th>1314</th>\n",
       "      <th>1429</th>\n",
       "      <th>1338</th>\n",
       "      <th>1276</th>\n",
       "      <th>1432</th>\n",
       "      <th>593</th>\n",
       "      <th>1185</th>\n",
       "      <th>993</th>\n",
       "      <th>14</th>\n",
       "      <th>...</th>\n",
       "      <th>1135</th>\n",
       "      <th>881</th>\n",
       "      <th>183</th>\n",
       "      <th>655</th>\n",
       "      <th>1233</th>\n",
       "      <th>1156</th>\n",
       "      <th>555</th>\n",
       "      <th>708</th>\n",
       "      <th>575</th>\n",
       "      <th>972</th>\n",
       "    </tr>\n",
       "  </thead>\n",
       "  <tbody>\n",
       "    <tr>\n",
       "      <th>1</th>\n",
       "      <td>1.0</td>\n",
       "      <td>0.0</td>\n",
       "      <td>1.0</td>\n",
       "      <td>0.0</td>\n",
       "      <td>0.0</td>\n",
       "      <td>0.0</td>\n",
       "      <td>0.0</td>\n",
       "      <td>1.0</td>\n",
       "      <td>0.0</td>\n",
       "      <td>0.0</td>\n",
       "      <td>...</td>\n",
       "      <td>0.0</td>\n",
       "      <td>0.0</td>\n",
       "      <td>0.0</td>\n",
       "      <td>0.0</td>\n",
       "      <td>0.0</td>\n",
       "      <td>0.0</td>\n",
       "      <td>0.0</td>\n",
       "      <td>0.0</td>\n",
       "      <td>0.0</td>\n",
       "      <td>0.0</td>\n",
       "    </tr>\n",
       "    <tr>\n",
       "      <th>2</th>\n",
       "      <td>0.0</td>\n",
       "      <td>1.0</td>\n",
       "      <td>0.0</td>\n",
       "      <td>0.0</td>\n",
       "      <td>0.0</td>\n",
       "      <td>0.0</td>\n",
       "      <td>0.0</td>\n",
       "      <td>0.0</td>\n",
       "      <td>0.0</td>\n",
       "      <td>0.0</td>\n",
       "      <td>...</td>\n",
       "      <td>0.0</td>\n",
       "      <td>0.0</td>\n",
       "      <td>0.0</td>\n",
       "      <td>0.0</td>\n",
       "      <td>0.0</td>\n",
       "      <td>0.0</td>\n",
       "      <td>0.0</td>\n",
       "      <td>0.0</td>\n",
       "      <td>0.0</td>\n",
       "      <td>0.0</td>\n",
       "    </tr>\n",
       "    <tr>\n",
       "      <th>3</th>\n",
       "      <td>0.0</td>\n",
       "      <td>1.0</td>\n",
       "      <td>1.0</td>\n",
       "      <td>0.0</td>\n",
       "      <td>0.0</td>\n",
       "      <td>1.0</td>\n",
       "      <td>0.0</td>\n",
       "      <td>0.0</td>\n",
       "      <td>0.0</td>\n",
       "      <td>0.0</td>\n",
       "      <td>...</td>\n",
       "      <td>0.0</td>\n",
       "      <td>0.0</td>\n",
       "      <td>0.0</td>\n",
       "      <td>0.0</td>\n",
       "      <td>0.0</td>\n",
       "      <td>0.0</td>\n",
       "      <td>0.0</td>\n",
       "      <td>0.0</td>\n",
       "      <td>0.0</td>\n",
       "      <td>0.0</td>\n",
       "    </tr>\n",
       "    <tr>\n",
       "      <th>4</th>\n",
       "      <td>0.0</td>\n",
       "      <td>1.0</td>\n",
       "      <td>0.0</td>\n",
       "      <td>1.0</td>\n",
       "      <td>1.0</td>\n",
       "      <td>1.0</td>\n",
       "      <td>0.0</td>\n",
       "      <td>0.0</td>\n",
       "      <td>0.0</td>\n",
       "      <td>0.0</td>\n",
       "      <td>...</td>\n",
       "      <td>0.0</td>\n",
       "      <td>0.0</td>\n",
       "      <td>0.0</td>\n",
       "      <td>0.0</td>\n",
       "      <td>0.0</td>\n",
       "      <td>0.0</td>\n",
       "      <td>0.0</td>\n",
       "      <td>0.0</td>\n",
       "      <td>0.0</td>\n",
       "      <td>0.0</td>\n",
       "    </tr>\n",
       "    <tr>\n",
       "      <th>5</th>\n",
       "      <td>0.0</td>\n",
       "      <td>0.0</td>\n",
       "      <td>0.0</td>\n",
       "      <td>0.0</td>\n",
       "      <td>1.0</td>\n",
       "      <td>0.0</td>\n",
       "      <td>0.0</td>\n",
       "      <td>0.0</td>\n",
       "      <td>0.0</td>\n",
       "      <td>0.0</td>\n",
       "      <td>...</td>\n",
       "      <td>0.0</td>\n",
       "      <td>0.0</td>\n",
       "      <td>0.0</td>\n",
       "      <td>0.0</td>\n",
       "      <td>0.0</td>\n",
       "      <td>0.0</td>\n",
       "      <td>0.0</td>\n",
       "      <td>0.0</td>\n",
       "      <td>0.0</td>\n",
       "      <td>0.0</td>\n",
       "    </tr>\n",
       "  </tbody>\n",
       "</table>\n",
       "<p>5 rows × 714 columns</p>\n",
       "</div>"
      ],
      "text/plain": [
       "   1430  1314  1429  1338  1276  1432  593   1185  993   14    ...   1135  \\\n",
       "1   1.0   0.0   1.0   0.0   0.0   0.0   0.0   1.0   0.0   0.0  ...    0.0   \n",
       "2   0.0   1.0   0.0   0.0   0.0   0.0   0.0   0.0   0.0   0.0  ...    0.0   \n",
       "3   0.0   1.0   1.0   0.0   0.0   1.0   0.0   0.0   0.0   0.0  ...    0.0   \n",
       "4   0.0   1.0   0.0   1.0   1.0   1.0   0.0   0.0   0.0   0.0  ...    0.0   \n",
       "5   0.0   0.0   0.0   0.0   1.0   0.0   0.0   0.0   0.0   0.0  ...    0.0   \n",
       "\n",
       "   881   183   655   1233  1156  555   708   575   972   \n",
       "1   0.0   0.0   0.0   0.0   0.0   0.0   0.0   0.0   0.0  \n",
       "2   0.0   0.0   0.0   0.0   0.0   0.0   0.0   0.0   0.0  \n",
       "3   0.0   0.0   0.0   0.0   0.0   0.0   0.0   0.0   0.0  \n",
       "4   0.0   0.0   0.0   0.0   0.0   0.0   0.0   0.0   0.0  \n",
       "5   0.0   0.0   0.0   0.0   0.0   0.0   0.0   0.0   0.0  \n",
       "\n",
       "[5 rows x 714 columns]"
      ]
     },
     "execution_count": 62,
     "metadata": {},
     "output_type": "execute_result"
    }
   ],
   "source": [
    "user_item.head()"
   ]
  },
  {
   "cell_type": "code",
   "execution_count": 63,
   "metadata": {},
   "outputs": [
    {
     "name": "stdout",
     "output_type": "stream",
     "text": [
      "You have passed our quick tests!  Please proceed!\n"
     ]
    }
   ],
   "source": [
    "## Tests: You should just need to run this cell.  Don't change the code.\n",
    "assert user_item.shape[0] == 5149, \"Oops!  The number of users in the user-article matrix doesn't look right.\"\n",
    "assert user_item.shape[1] == 714, \"Oops!  The number of articles in the user-article matrix doesn't look right.\"\n",
    "assert user_item.sum(axis=1)[1] == 36, \"Oops!  The number of articles seen by user 1 doesn't look right.\"\n",
    "print(\"You have passed our quick tests!  Please proceed!\")"
   ]
  },
  {
   "cell_type": "markdown",
   "metadata": {},
   "source": [
    "`2.` Complete the function below which should take a user_id and provide an ordered list of the most similar users to that user (from most similar to least similar).  The returned result should not contain the provided user_id, as we know that each user is similar to him/herself. Because the results for each user here are binary, it (perhaps) makes sense to compute similarity as the dot product of two users. \n",
    "\n",
    "Use the tests to test your function."
   ]
  },
  {
   "cell_type": "code",
   "execution_count": 74,
   "metadata": {},
   "outputs": [],
   "source": [
    "def find_similar_users(user_id, user_item=user_item):\n",
    "    '''\n",
    "    INPUT:\n",
    "    user_id - (int) a user_id\n",
    "    user_item - (pandas dataframe) matrix of users by articles: \n",
    "                1's when a user has interacted with an article, 0 otherwise\n",
    "    \n",
    "    OUTPUT:\n",
    "    most_similar_users - (list) an ordered list where the closest users (largest dot product users)\n",
    "                    are listed first\n",
    "    \n",
    "    similarity_df - a dataframe containing each user and its neighbors order by similarity\n",
    "\n",
    "    Description:\n",
    "    Computes the similarity of every pair of users based on the dot product\n",
    "    Returns an ordered\n",
    "    '''\n",
    "    user1 = user_id\n",
    "    user_list = user_item.index\n",
    "    user_similarity_array = []\n",
    "    for user2 in user_list:  # removing owns or duplicates\n",
    "        similarity = np.dot(user_item.loc[user1], user_item.loc[user2])\n",
    "        user_similarity_array.append([user1, user2, similarity])\n",
    "        \n",
    "    similarity_df = pd.DataFrame(user_similarity_array, columns=['user1', 'user2', 'similarity'])  \n",
    "    similarity_df = similarity_df.sort_values(by='similarity', ascending=False)\n",
    "    similarity_df = similarity_df[similarity_df.user2 != user1] # remove user1==user2\n",
    "    most_similar_users = similarity_df.user2.values\n",
    "    \n",
    "    return most_similar_users, similarity_df  # return a list of the users in order from most to least similar\n",
    "        "
   ]
  },
  {
   "cell_type": "code",
   "execution_count": 76,
   "metadata": {},
   "outputs": [
    {
     "data": {
      "text/html": [
       "<div>\n",
       "<style scoped>\n",
       "    .dataframe tbody tr th:only-of-type {\n",
       "        vertical-align: middle;\n",
       "    }\n",
       "\n",
       "    .dataframe tbody tr th {\n",
       "        vertical-align: top;\n",
       "    }\n",
       "\n",
       "    .dataframe thead th {\n",
       "        text-align: right;\n",
       "    }\n",
       "</style>\n",
       "<table border=\"1\" class=\"dataframe\">\n",
       "  <thead>\n",
       "    <tr style=\"text-align: right;\">\n",
       "      <th></th>\n",
       "      <th>user1</th>\n",
       "      <th>user2</th>\n",
       "      <th>similarity</th>\n",
       "    </tr>\n",
       "  </thead>\n",
       "  <tbody>\n",
       "    <tr>\n",
       "      <th>3932</th>\n",
       "      <td>1</td>\n",
       "      <td>3933</td>\n",
       "      <td>35.0</td>\n",
       "    </tr>\n",
       "    <tr>\n",
       "      <th>22</th>\n",
       "      <td>1</td>\n",
       "      <td>23</td>\n",
       "      <td>17.0</td>\n",
       "    </tr>\n",
       "    <tr>\n",
       "      <th>3781</th>\n",
       "      <td>1</td>\n",
       "      <td>3782</td>\n",
       "      <td>17.0</td>\n",
       "    </tr>\n",
       "    <tr>\n",
       "      <th>202</th>\n",
       "      <td>1</td>\n",
       "      <td>203</td>\n",
       "      <td>15.0</td>\n",
       "    </tr>\n",
       "    <tr>\n",
       "      <th>4458</th>\n",
       "      <td>1</td>\n",
       "      <td>4459</td>\n",
       "      <td>15.0</td>\n",
       "    </tr>\n",
       "    <tr>\n",
       "      <th>3869</th>\n",
       "      <td>1</td>\n",
       "      <td>3870</td>\n",
       "      <td>14.0</td>\n",
       "    </tr>\n",
       "    <tr>\n",
       "      <th>130</th>\n",
       "      <td>1</td>\n",
       "      <td>131</td>\n",
       "      <td>14.0</td>\n",
       "    </tr>\n",
       "    <tr>\n",
       "      <th>4200</th>\n",
       "      <td>1</td>\n",
       "      <td>4201</td>\n",
       "      <td>13.0</td>\n",
       "    </tr>\n",
       "    <tr>\n",
       "      <th>45</th>\n",
       "      <td>1</td>\n",
       "      <td>46</td>\n",
       "      <td>13.0</td>\n",
       "    </tr>\n",
       "    <tr>\n",
       "      <th>5040</th>\n",
       "      <td>1</td>\n",
       "      <td>5041</td>\n",
       "      <td>12.0</td>\n",
       "    </tr>\n",
       "  </tbody>\n",
       "</table>\n",
       "</div>"
      ],
      "text/plain": [
       "      user1  user2  similarity\n",
       "3932      1   3933        35.0\n",
       "22        1     23        17.0\n",
       "3781      1   3782        17.0\n",
       "202       1    203        15.0\n",
       "4458      1   4459        15.0\n",
       "3869      1   3870        14.0\n",
       "130       1    131        14.0\n",
       "4200      1   4201        13.0\n",
       "45        1     46        13.0\n",
       "5040      1   5041        12.0"
      ]
     },
     "execution_count": 76,
     "metadata": {},
     "output_type": "execute_result"
    }
   ],
   "source": [
    "most_similar_users, similarity_df=find_similar_users(1)\n",
    "similarity_df[0:10]"
   ]
  },
  {
   "cell_type": "code",
   "execution_count": 77,
   "metadata": {},
   "outputs": [
    {
     "data": {
      "text/html": [
       "<div>\n",
       "<style scoped>\n",
       "    .dataframe tbody tr th:only-of-type {\n",
       "        vertical-align: middle;\n",
       "    }\n",
       "\n",
       "    .dataframe tbody tr th {\n",
       "        vertical-align: top;\n",
       "    }\n",
       "\n",
       "    .dataframe thead th {\n",
       "        text-align: right;\n",
       "    }\n",
       "</style>\n",
       "<table border=\"1\" class=\"dataframe\">\n",
       "  <thead>\n",
       "    <tr style=\"text-align: right;\">\n",
       "      <th></th>\n",
       "      <th>user1</th>\n",
       "      <th>user2</th>\n",
       "      <th>similarity</th>\n",
       "    </tr>\n",
       "  </thead>\n",
       "  <tbody>\n",
       "    <tr>\n",
       "      <th>0</th>\n",
       "      <td>3933</td>\n",
       "      <td>1</td>\n",
       "      <td>35.0</td>\n",
       "    </tr>\n",
       "    <tr>\n",
       "      <th>22</th>\n",
       "      <td>3933</td>\n",
       "      <td>23</td>\n",
       "      <td>17.0</td>\n",
       "    </tr>\n",
       "    <tr>\n",
       "      <th>3781</th>\n",
       "      <td>3933</td>\n",
       "      <td>3782</td>\n",
       "      <td>17.0</td>\n",
       "    </tr>\n",
       "    <tr>\n",
       "      <th>202</th>\n",
       "      <td>3933</td>\n",
       "      <td>203</td>\n",
       "      <td>15.0</td>\n",
       "    </tr>\n",
       "    <tr>\n",
       "      <th>4458</th>\n",
       "      <td>3933</td>\n",
       "      <td>4459</td>\n",
       "      <td>15.0</td>\n",
       "    </tr>\n",
       "    <tr>\n",
       "      <th>130</th>\n",
       "      <td>3933</td>\n",
       "      <td>131</td>\n",
       "      <td>13.0</td>\n",
       "    </tr>\n",
       "    <tr>\n",
       "      <th>45</th>\n",
       "      <td>3933</td>\n",
       "      <td>46</td>\n",
       "      <td>13.0</td>\n",
       "    </tr>\n",
       "    <tr>\n",
       "      <th>3869</th>\n",
       "      <td>3933</td>\n",
       "      <td>3870</td>\n",
       "      <td>13.0</td>\n",
       "    </tr>\n",
       "    <tr>\n",
       "      <th>4200</th>\n",
       "      <td>3933</td>\n",
       "      <td>4201</td>\n",
       "      <td>13.0</td>\n",
       "    </tr>\n",
       "    <tr>\n",
       "      <th>48</th>\n",
       "      <td>3933</td>\n",
       "      <td>49</td>\n",
       "      <td>12.0</td>\n",
       "    </tr>\n",
       "  </tbody>\n",
       "</table>\n",
       "</div>"
      ],
      "text/plain": [
       "      user1  user2  similarity\n",
       "0      3933      1        35.0\n",
       "22     3933     23        17.0\n",
       "3781   3933   3782        17.0\n",
       "202    3933    203        15.0\n",
       "4458   3933   4459        15.0\n",
       "130    3933    131        13.0\n",
       "45     3933     46        13.0\n",
       "3869   3933   3870        13.0\n",
       "4200   3933   4201        13.0\n",
       "48     3933     49        12.0"
      ]
     },
     "execution_count": 77,
     "metadata": {},
     "output_type": "execute_result"
    }
   ],
   "source": [
    "most_similar_users, similarity_df=find_similar_users(3933)\n",
    "similarity_df[0:10]"
   ]
  },
  {
   "cell_type": "code",
   "execution_count": 78,
   "metadata": {},
   "outputs": [
    {
     "name": "stdout",
     "output_type": "stream",
     "text": [
      "The 10 most similar users to user 1 are: [3933   23 3782  203 4459 3870  131 4201   46 5041]\n",
      "The 5 most similar users to user 3933 are: [   1   23 3782  203 4459]\n",
      "The 3 most similar users to user 46 are: [4201 3782   23]\n"
     ]
    }
   ],
   "source": [
    "# Do a spot check of your function\n",
    "print(\"The 10 most similar users to user 1 are: {}\".format(find_similar_users(1)[0][:10]))\n",
    "print(\"The 5 most similar users to user 3933 are: {}\".format(find_similar_users(3933)[0][:5]))\n",
    "print(\"The 3 most similar users to user 46 are: {}\".format(find_similar_users(46)[0][:3]))"
   ]
  },
  {
   "cell_type": "markdown",
   "metadata": {},
   "source": [
    "`3.` Now that you have a function that provides the most similar users to each user, you will want to use these users to find articles you can recommend.  Complete the functions below to return the articles you would recommend to each user. "
   ]
  },
  {
   "cell_type": "code",
   "execution_count": 79,
   "metadata": {},
   "outputs": [],
   "source": [
    "def get_article_names(article_ids, df=df):\n",
    "    '''\n",
    "    INPUT:\n",
    "    article_ids - (list) a list of article ids\n",
    "    df - (pandas dataframe) df as defined at the top of the notebook\n",
    "    \n",
    "    OUTPUT:\n",
    "    article_names - (list) a list of article names associated with the list of article ids \n",
    "                    (this is identified by the title column)\n",
    "    '''\n",
    "    article_names = []\n",
    "    df_clean_id_title= df[['article_id','title']].drop_duplicates()\n",
    "    article_name_df = df_clean_id_title[df_clean_id_title.article_id.isin(article_ids)]\n",
    "    \n",
    "    for article_id in article_ids:\n",
    "        article_names.append(article_name_df[article_name_df['article_id']==article_id].title.values[0])\n",
    "\n",
    "    return article_names # Return the article names associated with list of article ids\n",
    "\n",
    "\n",
    "def get_user_articles(user_id, user_item=user_item):\n",
    "    '''\n",
    "    INPUT:\n",
    "    user_id - (int) a user id\n",
    "    user_item - (pandas dataframe) matrix of users by articles: \n",
    "                1's when a user has interacted with an article, 0 otherwise\n",
    "    \n",
    "    OUTPUT:\n",
    "    article_ids - (list) a list of the article ids seen by the user\n",
    "    article_names - (list) a list of article names associated with the list of article ids \n",
    "                    (this is identified by the doc_full_name column in df_content)\n",
    "    \n",
    "    Description:\n",
    "    Provides a list of the article_ids and article titles that have been seen by a user\n",
    "    '''\n",
    "    df_user = user_item.loc[user_id]\n",
    "    article_ids = list(df_user[df_user!=0.0].index)\n",
    "    article_names = get_article_names(article_ids, df=df)\n",
    "    \n",
    "    return article_ids, article_names # return the ids and names\n",
    "\n",
    "def user_user_recs(user_id, m=10):\n",
    "    '''\n",
    "    INPUT:\n",
    "    user_id - (int) a user id\n",
    "    m - (int) the number of recommendations you want for the user\n",
    "    \n",
    "    OUTPUT:\n",
    "    recs - (list) a list of recommendations for the user\n",
    "    \n",
    "    Description:\n",
    "    Loops through the users based on closeness to the input user_id\n",
    "    For each user - finds articles the user hasn't seen before and provides them as recs\n",
    "    Does this until m recommendations are found\n",
    "    \n",
    "    Notes:\n",
    "    Users who are the same closeness are chosen arbitrarily as the 'next' user\n",
    "    \n",
    "    For the user where the number of recommended articles starts below m \n",
    "    and ends exceeding m, the last items are chosen arbitrarily\n",
    "    \n",
    "    '''\n",
    "    recs = []\n",
    "    all_articles = list(user_item.columns)\n",
    "    user1 = user_id\n",
    "    article_ids_user1_seen, _ = get_user_articles(user1, user_item=user_item)\n",
    "    \n",
    "    most_similar_users, similarity_df = find_similar_users(user1, user_item=user_item)\n",
    "    x = similarity_df.sort_values(by='similarity', ascending=False)\n",
    "    # get unique, then go through uniques if multiple and pick random from them\n",
    "    unique_sim = x.similarity.unique()   \n",
    "    \n",
    "    # loop through all unique similarities\n",
    "    for unique in unique_sim:\n",
    "        y = similarity_df[similarity_df.similarity==unique]\n",
    "        user2_list = y.user2.values\n",
    "        unique_length= y.shape[0]\n",
    "        # arbitary pick next user, with same similarities\n",
    "        random_pick_similar = np.random.choice(user2_list, unique_length, replace=False)\n",
    "        for user2 in random_pick_similar:\n",
    "            article_ids_user2_seen, _ = get_user_articles(user2, user_item=user_item)\n",
    "            article_ids_user1_notseen = np.setdiff1d(article_ids_user2_seen, article_ids_user1_seen)\n",
    "            start_length = len(recs)\n",
    "            # to avoid similar pointer,recs_tmp should not point same place as recs, so need only copy\n",
    "            recs_tmp = recs.copy()   \n",
    "            recs_tmp.extend(article_ids_user1_notseen)\n",
    "            recs_tmp = list(set(recs_tmp))\n",
    "            end_length = len(recs_tmp)\n",
    "\n",
    "            # check before and after length, if more than m random pick\n",
    "            if(end_length>=m):\n",
    "                extra_count_needed = m - start_length\n",
    "                list_get_rest = np.random.choice(article_ids_user1_notseen, extra_count_needed, replace=False)\n",
    "                recs.extend(list_get_rest)\n",
    "                recs = list(set(recs))\n",
    "                return recs\n",
    "\n",
    "            if(end_length<m):\n",
    "                recs.extend(article_ids_user1_notseen)\n",
    "                recs = list(set(recs))\n",
    "                \n",
    "    # user never meet required m rec\n",
    "    return recs\n",
    "   "
   ]
  },
  {
   "cell_type": "code",
   "execution_count": 80,
   "metadata": {},
   "outputs": [
    {
     "data": {
      "text/plain": [
       "['learn tensorflow and deep learning together and now!',\n",
       " 'aspiring data scientists! start to learn statistics with these 6 books!',\n",
       " 'improving real-time object detection with yolo',\n",
       " 'overlapping co-cluster recommendation algorithm (ocular)',\n",
       " 'higher-order logistic regression for large datasets',\n",
       " 'this week in data science (february 14, 2017)',\n",
       " 'build a python app on the streaming analytics service',\n",
       " 'working with db2 warehouse on cloud in data science experience',\n",
       " 'web picks (week of 4 september 2017)',\n",
       " 'experience iot with coursera']"
      ]
     },
     "execution_count": 80,
     "metadata": {},
     "output_type": "execute_result"
    }
   ],
   "source": [
    "get_article_names(user_user_recs(1, 10))"
   ]
  },
  {
   "cell_type": "code",
   "execution_count": 82,
   "metadata": {},
   "outputs": [
    {
     "name": "stdout",
     "output_type": "stream",
     "text": [
      "If this is all you see, you passed all of our tests!  Nice job!\n"
     ]
    }
   ],
   "source": [
    "# Test your functions here - No need to change this code - just run this cell\n",
    "# article id put in integer format\n",
    "assert set(get_article_names([1024, 1176, 1305, 1314, 1422, 1427])) == set(['using deep learning to reconstruct high-resolution audio', 'build a python app on the streaming analytics service', 'gosales transactions for naive bayes model', 'healthcare python streaming application demo', 'use r dataframes & ibm watson natural language understanding', 'use xgboost, scikit-learn & ibm watson machine learning apis']), \"Oops! Your the get_article_names function doesn't work quite how we expect.\"\n",
    "assert set(get_article_names([1320, 232, 844])) == set(['housing (2015): united states demographic measures','self-service data preparation with ibm data refinery','use the cloudant-spark connector in python notebook']), \"Oops! Your the get_article_names function doesn't work quite how we expect.\"\n",
    "assert set(get_user_articles(20)[0]) == set([1320, 232, 844])\n",
    "assert set(get_user_articles(20)[1]) == set(['housing (2015): united states demographic measures', 'self-service data preparation with ibm data refinery','use the cloudant-spark connector in python notebook'])\n",
    "assert set(get_user_articles(2)[0]) == set([1024, 1176, 1305, 1314, 1422, 1427])\n",
    "assert set(get_user_articles(2)[1]) == set(['using deep learning to reconstruct high-resolution audio', 'build a python app on the streaming analytics service', 'gosales transactions for naive bayes model', 'healthcare python streaming application demo', 'use r dataframes & ibm watson natural language understanding', 'use xgboost, scikit-learn & ibm watson machine learning apis'])\n",
    "print(\"If this is all you see, you passed all of our tests!  Nice job!\")"
   ]
  },
  {
   "cell_type": "markdown",
   "metadata": {},
   "source": [
    "`4.` Now we are going to improve the consistency of the **user_user_recs** function from above.  \n",
    "\n",
    "* Instead of arbitrarily choosing when we obtain users who are all the same closeness to a given user - choose the users that have the most total article interactions before choosing those with fewer article interactions.\n",
    "\n",
    "\n",
    "* Instead of arbitrarily choosing articles from the user where the number of recommended articles starts below m and ends exceeding m, choose articles with the articles with the most total interactions before choosing those with fewer total interactions. This ranking should be  what would be obtained from the **top_articles** function you wrote earlier."
   ]
  },
  {
   "cell_type": "code",
   "execution_count": 84,
   "metadata": {},
   "outputs": [],
   "source": [
    "def get_top_sorted_users(user_id, df=df, user_item=user_item):\n",
    "    '''\n",
    "    INPUT:\n",
    "    user_id - (int)\n",
    "    df - (pandas dataframe) df as defined at the top of the notebook \n",
    "    user_item - (pandas dataframe) matrix of users by articles: \n",
    "            1's when a user has interacted with an article, 0 otherwise\n",
    "    \n",
    "            \n",
    "    OUTPUT:\n",
    "    neighbors_df - (pandas dataframe) a dataframe with:\n",
    "                    user2 - is a neighbor user_id\n",
    "                    similarity - measure of the similarity of each user to the provided user_id\n",
    "                    unique_total - the number of unique articles viewed by the user \n",
    "                    overall_total - the number of overall articles viewed by the user \n",
    "                    \n",
    "    Other Details - sort the neighbors_df by the similarity and then by number of interactions where \n",
    "                    highest of each is higher in the dataframe\n",
    "     \n",
    "    '''\n",
    "    #unique interaction count\n",
    "    x = df.drop_duplicates().groupby(by='user_id').count()  \n",
    "    unique_total = x.reset_index()[['user_id','article_id']].rename(columns={\"article_id\": \"unique_total\"})\n",
    "    #overall interaction count (even if user visited same unique article multiple time)\n",
    "    x = df.groupby(by='user_id').count() \n",
    "    overall_total = x.reset_index()[['user_id','article_id']].rename(columns={\"article_id\": \"overall_total\"})\n",
    "    merged_counts = unique_total.merge(overall_total, on='user_id')\n",
    "    _, similarity_df = find_similar_users(user_id, user_item=user_item)\n",
    "    z = similarity_df.merge(merged_counts, left_on='user2',right_on='user_id').drop(columns=['user_id'])\n",
    "    # put priority by overall total (test staisfaction, otherwise think unique total count is more important)\n",
    "    z = z.sort_values(by=['similarity','overall_total','unique_total'],ascending=False) \n",
    "    neighbors_df = z[z.user1==user_id]\n",
    "    \n",
    "    return neighbors_df # Return the dataframe specified in the doc_string\n",
    "\n",
    "\n",
    "def user_user_recs_part2(user_id, m=10):\n",
    "    '''\n",
    "    INPUT:\n",
    "    user_id - (int) a user id\n",
    "    m - (int) the number of recommendations you want for the user\n",
    "    \n",
    "    OUTPUT:\n",
    "    recs - (list) a list of recommendations for the user by article id\n",
    "    rec_names - (list) a list of recommendations for the user by article title\n",
    "    \n",
    "    Description:\n",
    "    Loops through the users based on closeness to the input user_id\n",
    "    For each user - finds articles the user hasn't seen before and provides them as recs\n",
    "    Does this until m recommendations are found\n",
    "    \n",
    "    Notes:\n",
    "    * Choose the users that have the most total article interactions \n",
    "    before choosing those with fewer article interactions.\n",
    "\n",
    "    * Choose articles with the articles with the most total interactions \n",
    "    before choosing those with fewer total interactions. \n",
    "   \n",
    "    '''\n",
    "    recs = []\n",
    "    all_articles = list(user_item.columns)\n",
    "    user1 = user_id\n",
    "    article_ids_user1_seen, _ = get_user_articles(user1, user_item=user_item)\n",
    "    \n",
    "    neighbors_df = get_top_sorted_users(user1, df=df, user_item=user_item)\n",
    "    user2_list = neighbors_df.user2.values\n",
    "\n",
    "    for user2 in user2_list:\n",
    "        article_ids_user2_seen, _ = get_user_articles(user2, user_item=user_item)\n",
    "        article_ids_user1_notseen = np.setdiff1d(article_ids_user2_seen, article_ids_user1_seen)\n",
    "        start_length = len(recs)\n",
    "        # to avoid similar pointer,recs_tmp should not point same place as recs, so need only copy\n",
    "        recs_tmp = recs.copy()   \n",
    "        recs_tmp.extend(article_ids_user1_notseen)\n",
    "        recs_tmp = list(set(recs_tmp))\n",
    "        end_length = len(recs_tmp)\n",
    "\n",
    "        if(end_length>=m):\n",
    "            extra_count_needed = m - start_length\n",
    "            top_100_articles = get_top_article_ids(100, df=df)\n",
    "            list1_df = pd.DataFrame(np.array(top_100_articles))\n",
    "            list2_df = pd.DataFrame(np.array(article_ids_user1_notseen))\n",
    "            # intersection of the two lists but with top_100_priority and get extra_count_needed from top\n",
    "            list_get_rest = list1_df.merge(list2_df)[0].values[0:extra_count_needed]            \n",
    "            recs.extend(list_get_rest)\n",
    "            recs = list(set(recs))\n",
    "            rec_names = get_article_names(recs)\n",
    "            return recs, rec_names\n",
    "\n",
    "        if(end_length<m):\n",
    "            recs.extend(article_ids_user1_notseen)\n",
    "            recs = list(set(recs))\n",
    "\n",
    "    #if user never meet m recommendation\n",
    "    rec_names = get_article_names(recs)\n",
    "    return recs, rec_names\n"
   ]
  },
  {
   "cell_type": "code",
   "execution_count": 85,
   "metadata": {},
   "outputs": [
    {
     "name": "stdout",
     "output_type": "stream",
     "text": [
      "The top 10 recommendations for user 20 are the following article ids:\n",
      "[1368, 1351, 1160, 1162, 1354, 1330, 1427, 1364, 1170, 1304]\n",
      "\n",
      "The top 10 recommendations for user 20 are the following article names:\n",
      "['putting a human face on machine learning', 'model bike sharing data with spss', 'analyze accident reports on amazon emr spark', 'analyze energy consumption in buildings', 'movie recommender system with spark machine learning', 'insights from new york car accident reports', 'use xgboost, scikit-learn & ibm watson machine learning apis', 'predicting churn with the spss random tree algorithm', 'apache spark lab, part 1: basic concepts', 'gosales transactions for logistic regression model']\n"
     ]
    }
   ],
   "source": [
    "# Quick spot check - don't change this code - just use it to test your functions\n",
    "rec_ids, rec_names = user_user_recs_part2(20, 10)\n",
    "print(\"The top 10 recommendations for user 20 are the following article ids:\")\n",
    "print(rec_ids)\n",
    "print()\n",
    "print(\"The top 10 recommendations for user 20 are the following article names:\")\n",
    "print(rec_names)"
   ]
  },
  {
   "cell_type": "markdown",
   "metadata": {},
   "source": [
    "`5.` Use your functions from above to correctly fill in the solutions to the dictionary below.  Then test your dictionary against the solution.  Provide the code you need to answer each following the comments below."
   ]
  },
  {
   "cell_type": "code",
   "execution_count": 87,
   "metadata": {},
   "outputs": [
    {
     "data": {
      "text/plain": [
       "3933"
      ]
     },
     "execution_count": 87,
     "metadata": {},
     "output_type": "execute_result"
    }
   ],
   "source": [
    "get_top_sorted_users(1, df=df, user_item=user_item).user2[0]"
   ]
  },
  {
   "cell_type": "code",
   "execution_count": 88,
   "metadata": {},
   "outputs": [
    {
     "data": {
      "text/plain": [
       "242"
      ]
     },
     "execution_count": 88,
     "metadata": {},
     "output_type": "execute_result"
    }
   ],
   "source": [
    "get_top_sorted_users(131, df=df, user_item=user_item).user2.values[9] # 10th item"
   ]
  },
  {
   "cell_type": "code",
   "execution_count": 89,
   "metadata": {},
   "outputs": [
    {
     "data": {
      "text/html": [
       "<div>\n",
       "<style scoped>\n",
       "    .dataframe tbody tr th:only-of-type {\n",
       "        vertical-align: middle;\n",
       "    }\n",
       "\n",
       "    .dataframe tbody tr th {\n",
       "        vertical-align: top;\n",
       "    }\n",
       "\n",
       "    .dataframe thead th {\n",
       "        text-align: right;\n",
       "    }\n",
       "</style>\n",
       "<table border=\"1\" class=\"dataframe\">\n",
       "  <thead>\n",
       "    <tr style=\"text-align: right;\">\n",
       "      <th></th>\n",
       "      <th>user1</th>\n",
       "      <th>user2</th>\n",
       "      <th>similarity</th>\n",
       "      <th>unique_total</th>\n",
       "      <th>overall_total</th>\n",
       "    </tr>\n",
       "  </thead>\n",
       "  <tbody>\n",
       "    <tr>\n",
       "      <th>0</th>\n",
       "      <td>131</td>\n",
       "      <td>3870</td>\n",
       "      <td>74.0</td>\n",
       "      <td>75</td>\n",
       "      <td>144</td>\n",
       "    </tr>\n",
       "    <tr>\n",
       "      <th>1</th>\n",
       "      <td>131</td>\n",
       "      <td>3782</td>\n",
       "      <td>39.0</td>\n",
       "      <td>135</td>\n",
       "      <td>363</td>\n",
       "    </tr>\n",
       "    <tr>\n",
       "      <th>2</th>\n",
       "      <td>131</td>\n",
       "      <td>23</td>\n",
       "      <td>38.0</td>\n",
       "      <td>135</td>\n",
       "      <td>364</td>\n",
       "    </tr>\n",
       "    <tr>\n",
       "      <th>4</th>\n",
       "      <td>131</td>\n",
       "      <td>203</td>\n",
       "      <td>33.0</td>\n",
       "      <td>96</td>\n",
       "      <td>160</td>\n",
       "    </tr>\n",
       "    <tr>\n",
       "      <th>3</th>\n",
       "      <td>131</td>\n",
       "      <td>4459</td>\n",
       "      <td>33.0</td>\n",
       "      <td>96</td>\n",
       "      <td>158</td>\n",
       "    </tr>\n",
       "    <tr>\n",
       "      <th>6</th>\n",
       "      <td>131</td>\n",
       "      <td>98</td>\n",
       "      <td>29.0</td>\n",
       "      <td>97</td>\n",
       "      <td>170</td>\n",
       "    </tr>\n",
       "    <tr>\n",
       "      <th>5</th>\n",
       "      <td>131</td>\n",
       "      <td>3764</td>\n",
       "      <td>29.0</td>\n",
       "      <td>97</td>\n",
       "      <td>169</td>\n",
       "    </tr>\n",
       "    <tr>\n",
       "      <th>8</th>\n",
       "      <td>131</td>\n",
       "      <td>49</td>\n",
       "      <td>29.0</td>\n",
       "      <td>101</td>\n",
       "      <td>147</td>\n",
       "    </tr>\n",
       "    <tr>\n",
       "      <th>7</th>\n",
       "      <td>131</td>\n",
       "      <td>3697</td>\n",
       "      <td>29.0</td>\n",
       "      <td>100</td>\n",
       "      <td>145</td>\n",
       "    </tr>\n",
       "    <tr>\n",
       "      <th>10</th>\n",
       "      <td>131</td>\n",
       "      <td>242</td>\n",
       "      <td>25.0</td>\n",
       "      <td>59</td>\n",
       "      <td>148</td>\n",
       "    </tr>\n",
       "    <tr>\n",
       "      <th>9</th>\n",
       "      <td>131</td>\n",
       "      <td>3910</td>\n",
       "      <td>25.0</td>\n",
       "      <td>60</td>\n",
       "      <td>147</td>\n",
       "    </tr>\n",
       "  </tbody>\n",
       "</table>\n",
       "</div>"
      ],
      "text/plain": [
       "    user1  user2  similarity  unique_total  overall_total\n",
       "0     131   3870        74.0            75            144\n",
       "1     131   3782        39.0           135            363\n",
       "2     131     23        38.0           135            364\n",
       "4     131    203        33.0            96            160\n",
       "3     131   4459        33.0            96            158\n",
       "6     131     98        29.0            97            170\n",
       "5     131   3764        29.0            97            169\n",
       "8     131     49        29.0           101            147\n",
       "7     131   3697        29.0           100            145\n",
       "10    131    242        25.0            59            148\n",
       "9     131   3910        25.0            60            147"
      ]
     },
     "execution_count": 89,
     "metadata": {},
     "output_type": "execute_result"
    }
   ],
   "source": [
    "get_top_sorted_users(131, df=df, user_item=user_item).head(11)"
   ]
  },
  {
   "cell_type": "code",
   "execution_count": 90,
   "metadata": {},
   "outputs": [],
   "source": [
    "### Tests with a dictionary of results\n",
    "\n",
    "user1_most_sim = 3933  # Find the user that is most similar to user 1 \n",
    "user131_10th_sim = 242  # Find the 10th most similar user to user 131"
   ]
  },
  {
   "cell_type": "code",
   "execution_count": 91,
   "metadata": {},
   "outputs": [
    {
     "name": "stdout",
     "output_type": "stream",
     "text": [
      "This all looks good!  Nice job!\n"
     ]
    }
   ],
   "source": [
    "## Dictionary Test Here\n",
    "sol_5_dict = {\n",
    "    'The user that is most similar to user 1.': user1_most_sim, \n",
    "    'The user that is the 10th most similar to user 131': user131_10th_sim,\n",
    "}\n",
    "\n",
    "t.sol_5_test(sol_5_dict)"
   ]
  },
  {
   "cell_type": "markdown",
   "metadata": {},
   "source": [
    "`6.` If we were given a new user, which of the above functions would you be able to use to make recommendations?  Explain.  Can you think of a better way we might make recommendations?  Use the cell below to explain a better method for new users."
   ]
  },
  {
   "cell_type": "markdown",
   "metadata": {},
   "source": [
    "*___________________________*\n",
    "For the new user (__cold start problem__), the user-user base method alone is not appropriate and in general any method that rely on user previous viewing history in the system (e.g. SVD type recommendation, article content-base, item-item base) isn't able to find a neighborhood for him/her. There are few other options available though:**\n",
    "\n",
    "- Using knowledge-base method, and maybe even expand it to rank-base method based on using most popular items for recommendation. For new users we can ask them initially few questions to know what their interests are to get better filtering for rank-base recommendation.\n",
    "- Another approach which is not discussed here is to ask new users to fill more detailed questionnaire when they sign up to the website and to dive deeper into user characteristics/behavior/demography such as habits, age, genre, zip code to build more elaborate user content-base approach (to classify user characteristics, not articles).\n",
    "- As soon as user start building viewing history, then we can add methods such as article content-base, SVD, item-item base approach (Amazon uses), or user-user base methods.\n",
    "- Generally it is shown for a well-established website which has more users than items, item-item base method (which is not dicussed in Udacity course work) is better than user-user base method. The item-item is used in Amazon, Netflix,.. and relies on pair of item-item similarity based on user views/rating."
   ]
  },
  {
   "cell_type": "markdown",
   "metadata": {},
   "source": [
    "`7.` Using your existing functions, provide the top 10 recommended articles you would provide for the a new user below.  You can test your function against our thoughts to make sure we are all on the same page with how we might make a recommendation."
   ]
  },
  {
   "cell_type": "code",
   "execution_count": 92,
   "metadata": {},
   "outputs": [
    {
     "name": "stdout",
     "output_type": "stream",
     "text": [
      "[1429, 1330, 1431, 1427, 1364, 1314, 1293, 1170, 1162, 1304]\n",
      "['1429.0', '1330.0', '1431.0', '1427.0', '1364.0', '1314.0', '1293.0', '1170.0', '1162.0', '1304.0']\n"
     ]
    }
   ],
   "source": [
    "new_user = '0.0'\n",
    "\n",
    "# What would your recommendations be for this new user '0.0'?  As a new user, they have no observed articles.\n",
    "# Provide a list of the top 10 article ids you would give to \n",
    "new_user_recs = get_top_article_ids(10) \n",
    "print(new_user_recs)\n",
    "#The output from my recommendation is integer, need to convert to string\n",
    "new_user_recs = [str(np.round(float(i),1)) for i in new_user_recs]\n",
    "print(new_user_recs)\n"
   ]
  },
  {
   "cell_type": "code",
   "execution_count": 93,
   "metadata": {},
   "outputs": [
    {
     "name": "stdout",
     "output_type": "stream",
     "text": [
      "That's right!  Nice job!\n"
     ]
    }
   ],
   "source": [
    "assert set(new_user_recs) == set(['1314.0','1429.0','1293.0','1427.0','1162.0','1364.0','1304.0','1170.0','1431.0','1330.0']), \"Oops!  It makes sense that in this case we would want to recommend the most popular articles, because we don't know anything about these users.\"\n",
    "\n",
    "print(\"That's right!  Nice job!\")"
   ]
  },
  {
   "cell_type": "markdown",
   "metadata": {},
   "source": [
    "### <a class=\"anchor\" id=\"Content-Recs\">Part IV: Content Based Recommendations (EXTRA - NOT REQUIRED)</a>\n",
    "\n",
    "Another method we might use to make recommendations is to perform a ranking of the highest ranked articles associated with some term.  You might consider content to be the **doc_body**, **doc_description**, or **doc_full_name**.  There isn't one way to create a content based recommendation, especially considering that each of these columns hold content related information.  \n",
    "\n",
    "`1.` Use the function body below to create a content based recommender.  Since there isn't one right answer for this recommendation tactic, no test functions are provided.  Feel free to change the function inputs if you decide you want to try a method that requires more input values.  The input values are currently set with one idea in mind that you may use to make content based recommendations.  One additional idea is that you might want to choose the most popular recommendations that meet your 'content criteria', but again, there is a lot of flexibility in how you might make these recommendations.\n",
    "\n",
    "### This part is NOT REQUIRED to pass this project.  However, you may choose to take this on as an extra way to show off your skills."
   ]
  },
  {
   "cell_type": "code",
   "execution_count": 165,
   "metadata": {},
   "outputs": [
    {
     "name": "stdout",
     "output_type": "stream",
     "text": [
      "[nltk_data] Downloading package stopwords to\n",
      "[nltk_data]     C:\\Users\\niava\\AppData\\Roaming\\nltk_data...\n",
      "[nltk_data]   Package stopwords is already up-to-date!\n",
      "[nltk_data] Downloading package wordnet to\n",
      "[nltk_data]     C:\\Users\\niava\\AppData\\Roaming\\nltk_data...\n",
      "[nltk_data]   Package wordnet is already up-to-date!\n"
     ]
    }
   ],
   "source": [
    "df_content_clean_copy = df_content_clean.copy()"
   ]
  },
  {
   "cell_type": "code",
   "execution_count": 166,
   "metadata": {},
   "outputs": [
    {
     "data": {
      "text/plain": [
       "'Detect Malfunctioning IoT Sensors with Streaming Analytics'"
      ]
     },
     "execution_count": 166,
     "metadata": {},
     "output_type": "execute_result"
    }
   ],
   "source": [
    "df_content_clean_copy.doc_full_name.loc[0]"
   ]
  },
  {
   "cell_type": "code",
   "execution_count": 167,
   "metadata": {},
   "outputs": [
    {
     "name": "stdout",
     "output_type": "stream",
     "text": [
      "The autoreload extension is already loaded. To reload it, use:\n",
      "  %reload_ext autoreload\n"
     ]
    }
   ],
   "source": [
    "%load_ext autoreload\n",
    "%autoreload 2\n",
    "from util import tokenizer"
   ]
  },
  {
   "cell_type": "code",
   "execution_count": 170,
   "metadata": {},
   "outputs": [
    {
     "data": {
      "text/plain": [
       "['sensor', 'analytics', 'malfunction', 'detect', 'iot', 'stream']"
      ]
     },
     "execution_count": 170,
     "metadata": {},
     "output_type": "execute_result"
    }
   ],
   "source": [
    "# test tokenizer function that I wrote during disaster pipelien project\n",
    "tokenizer.tokenize('Detect Malfunctioning IoT Sensors with Streaming Analytics')"
   ]
  },
  {
   "cell_type": "code",
   "execution_count": 223,
   "metadata": {},
   "outputs": [],
   "source": [
    "def get_token_df_content(df_content_clean_copy):\n",
    "    '''\n",
    "    INPUT:\n",
    "    df_content_clean_copy - a dataframe of article description,\n",
    "    with unique article id\n",
    "        \n",
    "    OUTPUT:\n",
    "    content_tokens_dict - (dictionary) a dictionary that connect the article_id \n",
    "    to tokens\n",
    "       \n",
    "    Description:\n",
    "    Function creates a dictionary that connect the article_id to \n",
    "    tokens from doc_full_name + doc_description + doc_status\n",
    "    a list of word tokens that are lemmatized and cleaned from stopwords\n",
    "    '''\n",
    "    df_less_col = df_content_clean_copy[['article_id', 'doc_status', 'doc_full_name', 'doc_description']].copy()\n",
    "    content_tokens_dict = {}\n",
    "    list_of_articles = df_content_clean_copy.article_id.values\n",
    "    for article in list_of_articles:\n",
    "        #print(article)\n",
    "        article_df = df_less_col[df_less_col.article_id == article]               \n",
    "        try:\n",
    "            #article_text = str(article_df.doc_status.values[0] + ' ' + article_df.doc_full_name.values[0] + ' ' + article_df.doc_description.values[0])\n",
    "            #print('here')\n",
    "            try:\n",
    "                article_text = article_df.doc_full_name.values[0] + ' ' + article_df.doc_description.values[0]\n",
    "                content_tokens_dict[article] = tokenizer.tokenize(article_text)\n",
    "            except:\n",
    "                article_text = article_df.doc_full_name.values[0]\n",
    "                content_tokens_dict[article] = tokenizer.tokenize(article_text)\n",
    "        except:\n",
    "            break\n",
    "    return content_tokens_dict\n",
    "    "
   ]
  },
  {
   "cell_type": "code",
   "execution_count": 224,
   "metadata": {},
   "outputs": [
    {
     "data": {
      "text/plain": [
       "'See the forest, see the trees. Here lies the challenge in both performing and presenting an analysis. As data scientists, analysts, and machine learning engineers faced with fulfilling business obj…'"
      ]
     },
     "execution_count": 224,
     "metadata": {},
     "output_type": "execute_result"
    }
   ],
   "source": [
    "str(df_content_clean_copy.doc_description[1])"
   ]
  },
  {
   "cell_type": "code",
   "execution_count": 230,
   "metadata": {},
   "outputs": [
    {
     "data": {
      "text/plain": [
       "1051"
      ]
     },
     "execution_count": 230,
     "metadata": {},
     "output_type": "execute_result"
    }
   ],
   "source": [
    "content_tokens_dict = get_token_df_content(df_content_clean_copy)\n",
    "len(content_tokens_dict.keys())"
   ]
  },
  {
   "cell_type": "code",
   "execution_count": 265,
   "metadata": {},
   "outputs": [],
   "source": [
    "def token_length(df_content_clean_copy, dict_ = content_tokens_dict):\n",
    "    \n",
    "    len_token = []\n",
    "    for article in df_content_clean_copy.article_id.values:\n",
    "        len_token.append(len(dict_[article]))\n",
    "        if(len(dict_[article])==1):\n",
    "            print(dict_[article])\n",
    "    return len_token\n",
    "len_token = token_length(df_content_clean_copy, dict_ = content_tokens_dict)"
   ]
  },
  {
   "cell_type": "code",
   "execution_count": 266,
   "metadata": {},
   "outputs": [
    {
     "data": {
      "image/png": "[encoded data removed]",
      "text/plain": [
       "<Figure size 864x288 with 1 Axes>"
      ]
     },
     "metadata": {},
     "output_type": "display_data"
    }
   ],
   "source": [
    "plt.figure(figsize=(12,4))\n",
    "plt.plot(df_content_clean_copy.article_id.values, np.array(len_token))\n",
    "plt.axhline(1, color='red')\n",
    "plt.ylim([0,60])\n",
    "plt.xlim([-1,1052])\n",
    "plt.grid()\n",
    "plt.xlabel('Article_id');\n",
    "plt.ylabel('Article body/description token length');"
   ]
  },
  {
   "cell_type": "markdown",
   "metadata": {},
   "source": [
    "All articles at least have one token"
   ]
  },
  {
   "cell_type": "code",
   "execution_count": 244,
   "metadata": {},
   "outputs": [
    {
     "data": {
      "text/plain": [
       "['engineer',\n",
       " 'communicate',\n",
       " 'science',\n",
       " 'scientist',\n",
       " 'challenge',\n",
       " 'work',\n",
       " 'guide',\n",
       " 'learn',\n",
       " 'lie',\n",
       " 'perform',\n",
       " 'analysis',\n",
       " 'see',\n",
       " 'data',\n",
       " 'analyst',\n",
       " 'tree',\n",
       " 'business',\n",
       " 'machine',\n",
       " 'face',\n",
       " 'fulfil',\n",
       " 'present',\n",
       " 'forest',\n",
       " 'obj']"
      ]
     },
     "execution_count": 244,
     "metadata": {},
     "output_type": "execute_result"
    }
   ],
   "source": [
    "content_tokens_dict[1]"
   ]
  },
  {
   "cell_type": "code",
   "execution_count": 256,
   "metadata": {},
   "outputs": [
    {
     "name": "stdout",
     "output_type": "stream",
     "text": [
      "Number of total tokens across all articles: 18161\n",
      "Number of unique tokens across all articles: 3326\n"
     ]
    }
   ],
   "source": [
    "global_words = []\n",
    "for article in df_content_clean_copy.article_id.values:\n",
    "    global_words.extend(content_tokens_dict[article])\n",
    "print('Number of total tokens across all articles:', len(global_words))    \n",
    "print('Number of unique tokens across all articles:', len(list(set(global_words))))"
   ]
  },
  {
   "cell_type": "code",
   "execution_count": 249,
   "metadata": {},
   "outputs": [],
   "source": [
    "from collections import Counter\n",
    "global_words_counter = Counter(global_words)"
   ]
  },
  {
   "cell_type": "code",
   "execution_count": 255,
   "metadata": {},
   "outputs": [
    {
     "name": "stdout",
     "output_type": "stream",
     "text": [
      "Most common words:\n",
      " [('data', 537), ('use', 356), ('ibm', 243), ('learn', 208), ('science', 159), ('database', 149), ('cloudant', 136), ('compose', 134), ('build', 125), ('show', 116)]\n",
      "\n",
      "list common words: \n",
      " [('contrary', 1), ('prefer', 1), ('typify', 1), ('regime', 1), ('hold', 1), ('comparison', 1), ('nicholas', 1), ('hould', 1), ('jean', 1), ('ides', 1)]\n"
     ]
    }
   ],
   "source": [
    "most_common_words = global_words_counter.most_common()\n",
    "print('Most common words:\\n', most_common_words[0:10])\n",
    "print()\n",
    "print('list common words: \\n', most_common_words[-10:])"
   ]
  },
  {
   "cell_type": "code",
   "execution_count": 263,
   "metadata": {},
   "outputs": [
    {
     "data": {
      "text/plain": [
       "537"
      ]
     },
     "execution_count": 263,
     "metadata": {},
     "output_type": "execute_result"
    }
   ],
   "source": [
    "global_words_counter['data']"
   ]
  },
  {
   "cell_type": "code",
   "execution_count": 267,
   "metadata": {},
   "outputs": [],
   "source": [
    "# include only words with total more than 1 repeat across all articles\n",
    "count = 0\n",
    "content_tokens_dict_update_1 = {}\n",
    "for article in df_content_clean_copy.article_id.values:\n",
    "    tokens = content_tokens_dict[article]\n",
    "    tokens_update_1 = []\n",
    "    for token in tokens:\n",
    "        if(global_words_counter[token]>1):\n",
    "            tokens_update_1.append(token)\n",
    "    content_tokens_dict_update_1[article] =  tokens_update_1\n",
    "    "
   ]
  },
  {
   "cell_type": "code",
   "execution_count": 275,
   "metadata": {
    "scrolled": false
   },
   "outputs": [
    {
     "data": {
      "image/png": "[encoded data removed]",
      "text/plain": [
       "<Figure size 864x288 with 1 Axes>"
      ]
     },
     "metadata": {},
     "output_type": "display_data"
    }
   ],
   "source": [
    "len_token_update = token_length(df_content_clean_copy, dict_ = content_tokens_dict_update_1)\n",
    "plt.figure(figsize=(12,4))\n",
    "plt.plot(df_content_clean_copy.article_id.values, np.array(len_token), alpha=0.7)\n",
    "plt.plot(df_content_clean_copy.article_id.values, np.array(len_token_update), alpha=0.7)\n",
    "plt.axhline(1, color='red')\n",
    "plt.ylim([0,60])\n",
    "plt.xlim([-1,1052])\n",
    "plt.grid()\n",
    "plt.legend(['all tokens', 'remove most infrequent'])\n",
    "plt.xlabel('Article_id');\n",
    "plt.ylabel('Article body/description token \\n length before and after removing infrequent tokens');"
   ]
  },
  {
   "cell_type": "code",
   "execution_count": 276,
   "metadata": {},
   "outputs": [
    {
     "name": "stdout",
     "output_type": "stream",
     "text": [
      "Number of total tokens across all articles: 16468\n",
      "Number of unique tokens across all articles: 1633\n"
     ]
    }
   ],
   "source": [
    "global_words_update = []\n",
    "for article in df_content_clean_copy.article_id.values:\n",
    "    global_words_update.extend(content_tokens_dict_update_1[article])\n",
    "print('Number of total tokens across all articles:', len(global_words_update))    \n",
    "print('Number of unique tokens across all articles:', len(list(set(global_words_update))))\n",
    "global_words_update = list(set(global_words_update))"
   ]
  },
  {
   "cell_type": "code",
   "execution_count": 278,
   "metadata": {},
   "outputs": [
    {
     "data": {
      "text/plain": [
       "1633"
      ]
     },
     "execution_count": 278,
     "metadata": {},
     "output_type": "execute_result"
    }
   ],
   "source": [
    "len(global_words_update)"
   ]
  },
  {
   "cell_type": "markdown",
   "metadata": {},
   "source": [
    "Since the size of unique tokens are not very high and cutting down the size , we can do a bag of words approach and fill the arrays for each article. The size of array is 3326 unique words. This will be used to calculate similarity between articles. But before that the tokens that are least common (only 1 count across all articles) are removed, since for a dot-product similarity they have no added value. This drops the total unique words for bag of words to 1633 and still every article have enough tokens for vectorization."
   ]
  },
  {
   "cell_type": "code",
   "execution_count": 280,
   "metadata": {},
   "outputs": [
    {
     "data": {
      "text/plain": [
       "1633"
      ]
     },
     "execution_count": 280,
     "metadata": {},
     "output_type": "execute_result"
    }
   ],
   "source": [
    "len(np.zeros(1633))"
   ]
  },
  {
   "cell_type": "code",
   "execution_count": 289,
   "metadata": {},
   "outputs": [
    {
     "data": {
      "text/plain": [
       "['sensor',\n",
       " 'time',\n",
       " 'bad',\n",
       " 'analytics',\n",
       " 'detect',\n",
       " 'iot',\n",
       " 'read',\n",
       " 'use',\n",
       " 'real',\n",
       " 'python',\n",
       " 'stream']"
      ]
     },
     "execution_count": 289,
     "metadata": {},
     "output_type": "execute_result"
    }
   ],
   "source": [
    "content_tokens_dict_update_1[0]"
   ]
  },
  {
   "cell_type": "code",
   "execution_count": 294,
   "metadata": {},
   "outputs": [],
   "source": [
    "# now for each article create a gobal bag of words vector, the infrequent words are removed\n",
    "article_bag_of_words_vec = {}\n",
    "for article in df_content_clean_copy.article_id.values:\n",
    "    bag_of_words_coded = np.zeros(len(global_words_update))\n",
    "    tokens = content_tokens_dict_update_1[article]\n",
    "    for token in tokens:\n",
    "        idx = global_words_update.index(token)\n",
    "        bag_of_words_coded[idx] = 1.0\n",
    "    article_bag_of_words_vec[article] = bag_of_words_coded  "
   ]
  },
  {
   "cell_type": "code",
   "execution_count": 313,
   "metadata": {},
   "outputs": [
    {
     "data": {
      "text/plain": [
       "55"
      ]
     },
     "execution_count": 313,
     "metadata": {},
     "output_type": "execute_result"
    }
   ],
   "source": [
    "global_words_update.index('r')"
   ]
  },
  {
   "cell_type": "code",
   "execution_count": 321,
   "metadata": {},
   "outputs": [
    {
     "data": {
      "text/plain": [
       "714"
      ]
     },
     "execution_count": 321,
     "metadata": {},
     "output_type": "execute_result"
    }
   ],
   "source": [
    "df.article_id.nunique()"
   ]
  },
  {
   "cell_type": "code",
   "execution_count": 324,
   "metadata": {},
   "outputs": [
    {
     "data": {
      "text/html": [
       "<div>\n",
       "<style scoped>\n",
       "    .dataframe tbody tr th:only-of-type {\n",
       "        vertical-align: middle;\n",
       "    }\n",
       "\n",
       "    .dataframe tbody tr th {\n",
       "        vertical-align: top;\n",
       "    }\n",
       "\n",
       "    .dataframe thead th {\n",
       "        text-align: right;\n",
       "    }\n",
       "</style>\n",
       "<table border=\"1\" class=\"dataframe\">\n",
       "  <thead>\n",
       "    <tr style=\"text-align: right;\">\n",
       "      <th></th>\n",
       "      <th>article_id</th>\n",
       "      <th>title</th>\n",
       "      <th>user_id</th>\n",
       "    </tr>\n",
       "  </thead>\n",
       "  <tbody>\n",
       "    <tr>\n",
       "      <th>0</th>\n",
       "      <td>1430</td>\n",
       "      <td>using pixiedust for fast, flexible, and easier...</td>\n",
       "      <td>1</td>\n",
       "    </tr>\n",
       "    <tr>\n",
       "      <th>1</th>\n",
       "      <td>1314</td>\n",
       "      <td>healthcare python streaming application demo</td>\n",
       "      <td>2</td>\n",
       "    </tr>\n",
       "    <tr>\n",
       "      <th>2</th>\n",
       "      <td>1429</td>\n",
       "      <td>use deep learning for image classification</td>\n",
       "      <td>3</td>\n",
       "    </tr>\n",
       "    <tr>\n",
       "      <th>3</th>\n",
       "      <td>1338</td>\n",
       "      <td>ml optimization using cognitive assistant</td>\n",
       "      <td>4</td>\n",
       "    </tr>\n",
       "    <tr>\n",
       "      <th>4</th>\n",
       "      <td>1276</td>\n",
       "      <td>deploy your python model as a restful api</td>\n",
       "      <td>5</td>\n",
       "    </tr>\n",
       "  </tbody>\n",
       "</table>\n",
       "</div>"
      ],
      "text/plain": [
       "   article_id                                              title  user_id\n",
       "0        1430  using pixiedust for fast, flexible, and easier...        1\n",
       "1        1314       healthcare python streaming application demo        2\n",
       "2        1429         use deep learning for image classification        3\n",
       "3        1338          ml optimization using cognitive assistant        4\n",
       "4        1276          deploy your python model as a restful api        5"
      ]
     },
     "execution_count": 324,
     "metadata": {},
     "output_type": "execute_result"
    }
   ],
   "source": [
    "df.head()"
   ]
  },
  {
   "cell_type": "code",
   "execution_count": 489,
   "metadata": {},
   "outputs": [],
   "source": [
    "def rec_ranked_word_specific(global_words_update, content_tokens_dict_update_1, df=df, word_filter='visualization', n_rec=10):\n",
    "    '''\n",
    "    INPUT:\n",
    "    global_words_update - (list) a list of global unique tokens\n",
    "    content_tokens_dict_update_1 - a dictionary for each article_id to a bag of words\n",
    "    df - dataframe of user/article viewing data\n",
    "    word_filter - (str)  an input keyword for filtering\n",
    "    n_rec - (int) number of recommendation\n",
    "    \n",
    "    OUTPUT:\n",
    "    top_df_filtered - a dataframe containing each article filtered by the word_filter sorted by\n",
    "    total viewing count\n",
    "\n",
    "    Description:\n",
    "    Get a word, pass a through tokenizer and find articles that have the word mentioned in them\n",
    "    pick those article and get top n_rec of them sorted by viewing count, makes sure article ids \n",
    "    from df_content also exist in df\n",
    "    '''    \n",
    "    \n",
    "    overall_total = df.groupby(by='article_id').count().sort_values(by=['user_id'], ascending=False).reset_index()\\\n",
    "                    .rename(columns={\"title\": \"total_view_count\"})   \n",
    "    article_ids_filtered =[]\n",
    "    article_ids = list(content_tokens_dict_update_1.keys())\n",
    "    try:\n",
    "        word = tokenizer.tokenize(word_filter)[0]\n",
    "        print('------------', word)\n",
    "        if(word in global_words_update):     \n",
    "            for article in article_ids:\n",
    "                if(word in content_tokens_dict_update_1[article]):\n",
    "                    article_ids_filtered.append([word, article])\n",
    "            article_found_df = pd.DataFrame(article_ids_filtered, columns=['word','article_id_found'])\n",
    "            z = article_found_df.merge(overall_total, left_on='article_id_found',right_on='article_id').drop(columns=['user_id', 'article_id'])\n",
    "            merged_article_found_df_count = z.sort_values(by=['total_view_count'], ascending=False)\n",
    "            article_ids_output = merged_article_found_df_count.article_id_found.values\n",
    "            article_view_count = merged_article_found_df_count.total_view_count.values\n",
    "            print('top {} viewed articles with word {}, \\n'.format(n_rec, word_filter))\n",
    "            print('------------')\n",
    "            print('Article ids:\\n', article_ids_output)\n",
    "            print('------------')\n",
    "            print('Article names:\\n', get_article_names(article_ids_output))\n",
    "            print('------------')\n",
    "            print('Article total view count: \\n', article_view_count)\n",
    "            top_df_filtered = merged_article_found_df_count[0: n_rec]\n",
    "            return  top_df_filtered\n",
    "       \n",
    "        else:\n",
    "            print('Try another word')\n",
    "       \n",
    "    except:\n",
    "        print('Try another word')\n",
    "        "
   ]
  },
  {
   "cell_type": "code",
   "execution_count": 490,
   "metadata": {},
   "outputs": [
    {
     "name": "stdout",
     "output_type": "stream",
     "text": [
      "------------ visualization\n",
      "top 10 viewed articles with word visualization, \n",
      "\n",
      "------------\n",
      "Article ids:\n",
      " [ 98  33 969 865 795 957 962 283 225 965 299  62 622  36 720 522 544 330\n",
      " 499]\n",
      "------------\n",
      "Article names:\n",
      " ['how to map usa rivers using ggplot2', 'using brunel in ipython/jupyter notebooks', 'flightpredict ii: the sequel  – ibm watson data lab', 'analyze traffic data from the city of san francisco', '7292    a dramatic tour through python’s data visualiz...\\nName: title, dtype: object', 'brunel interactive visualizations in jupyter notebooks', 'data visualization with r: scrum metrics', 'twelve\\xa0ways to color a map of africa using brunel', 'a visual explanation of the back propagation algorithm for neural networks', 'data visualization playbook: revisiting the basics', 'brunel in jupyter', 'data visualization: the importance of excluding unnecessary details', 'htmlwidgets: javascript data visualization for r', 'data visualization playbook: the right level of detail', 'data visualization playbook: telling the data story', 'share the (pixiedust) magic – ibm watson data lab – medium', 'data visualization with ggplot2 cheat sheet', 'brunel: imitation is a sincere form of flattery', 'let data dictate the visualization']\n",
      "------------\n",
      "Article total view count: \n",
      " [152 141 139 123 111 100  51  45  31  28  23  21  21  18  18  17  14   9\n",
      "   2]\n"
     ]
    }
   ],
   "source": [
    "filtered_word_visulization = rec_ranked_word_specific(global_words_update, content_tokens_dict_update_1, df=df, word_filter='visualization', n_rec=10)"
   ]
  },
  {
   "cell_type": "code",
   "execution_count": 493,
   "metadata": {},
   "outputs": [
    {
     "name": "stdout",
     "output_type": "stream",
     "text": [
      "------------ book\n",
      "top 10 viewed articles with word book, \n",
      "\n",
      "------------\n",
      "Article ids:\n",
      " [542 843 986 714]\n",
      "------------\n",
      "Article names:\n",
      " ['getting started with python', 'aspiring data scientists! start to learn statistics with these 6 books!', 'r for data science', 'a survey of books about apache spark™']\n",
      "------------\n",
      "Article total view count: \n",
      " [179  44  13   6]\n"
     ]
    }
   ],
   "source": [
    "filtered_word_book = rec_ranked_word_specific(global_words_update, content_tokens_dict_update_1, df=df, word_filter='book', n_rec=10)"
   ]
  },
  {
   "cell_type": "code",
   "execution_count": 494,
   "metadata": {},
   "outputs": [
    {
     "data": {
      "text/html": [
       "<div>\n",
       "<style scoped>\n",
       "    .dataframe tbody tr th:only-of-type {\n",
       "        vertical-align: middle;\n",
       "    }\n",
       "\n",
       "    .dataframe tbody tr th {\n",
       "        vertical-align: top;\n",
       "    }\n",
       "\n",
       "    .dataframe thead th {\n",
       "        text-align: right;\n",
       "    }\n",
       "</style>\n",
       "<table border=\"1\" class=\"dataframe\">\n",
       "  <thead>\n",
       "    <tr style=\"text-align: right;\">\n",
       "      <th></th>\n",
       "      <th>word</th>\n",
       "      <th>article_id_found</th>\n",
       "      <th>total_view_count</th>\n",
       "    </tr>\n",
       "  </thead>\n",
       "  <tbody>\n",
       "    <tr>\n",
       "      <th>0</th>\n",
       "      <td>book</td>\n",
       "      <td>542</td>\n",
       "      <td>179</td>\n",
       "    </tr>\n",
       "    <tr>\n",
       "      <th>2</th>\n",
       "      <td>book</td>\n",
       "      <td>843</td>\n",
       "      <td>44</td>\n",
       "    </tr>\n",
       "    <tr>\n",
       "      <th>3</th>\n",
       "      <td>book</td>\n",
       "      <td>986</td>\n",
       "      <td>13</td>\n",
       "    </tr>\n",
       "    <tr>\n",
       "      <th>1</th>\n",
       "      <td>book</td>\n",
       "      <td>714</td>\n",
       "      <td>6</td>\n",
       "    </tr>\n",
       "  </tbody>\n",
       "</table>\n",
       "</div>"
      ],
      "text/plain": [
       "   word  article_id_found  total_view_count\n",
       "0  book               542               179\n",
       "2  book               843                44\n",
       "3  book               986                13\n",
       "1  book               714                 6"
      ]
     },
     "execution_count": 494,
     "metadata": {},
     "output_type": "execute_result"
    }
   ],
   "source": [
    "filtered_word_book"
   ]
  },
  {
   "cell_type": "code",
   "execution_count": 377,
   "metadata": {},
   "outputs": [],
   "source": [
    "# find similar articles to article is based similarity of words vectors\n",
    "\n",
    "def find_similar_articles(article_id, bag_words_dict_vec=article_bag_of_words_vec, df=df):\n",
    "    '''\n",
    "    INPUT:\n",
    "    article_id - (int) a article_id from df_content\n",
    "    ag_words_dict_vec - a dictionary for each article_id to a bag of words\n",
    "    df - dataframe of user/article viewing data\n",
    "    \n",
    "    OUTPUT:\n",
    "    similarity_df - a dataframe containing each article and its neighbors order by similarity, \n",
    "    and total viewing count\n",
    "\n",
    "    Description:\n",
    "    Computes the similarity of every pair of articles based on the dot product/ and viewing count\n",
    "    '''\n",
    "    article1 = article_id\n",
    "    n = df.article_id.nunique()\n",
    "    article_list = list(bag_words_dict_vec.keys())\n",
    "    article_similarity_array = []\n",
    "    overall_total = df.groupby(by='article_id').count().sort_values(by=['user_id'], ascending=False).reset_index()\\\n",
    "                    .rename(columns={\"title\": \"total_view_count\"})   \n",
    "    try:\n",
    "        test = bag_words_dict_vec[article1]\n",
    "        for article2 in article_list:  # removing owns or duplicates\n",
    "            similarity = np.dot(bag_words_dict_vec[article1], bag_words_dict_vec[article2])\n",
    "            article_similarity_array.append([article1, article2, similarity])\n",
    "\n",
    "        similarity_df = pd.DataFrame(article_similarity_array, columns=['article1', 'article2', 'similarity'])  \n",
    "        similarity_df = similarity_df[similarity_df.article2 != article1] # remove article1==article2\n",
    "        z = similarity_df.merge(overall_total, left_on='article2',right_on='article_id').drop(columns=['user_id', 'article_id'])\n",
    "        neighbors_df = z[z['article1']==article1] \n",
    "        neighbors_df = neighbors_df.sort_values(by=['similarity', 'total_view_count'], ascending=False)        \n",
    "        return neighbors_df\n",
    "    \n",
    "    except:\n",
    "        print('try an article id belong to the df_content (article info file)')\n",
    "        return None\n"
   ]
  },
  {
   "cell_type": "code",
   "execution_count": 378,
   "metadata": {},
   "outputs": [
    {
     "data": {
      "text/html": [
       "<div>\n",
       "<style scoped>\n",
       "    .dataframe tbody tr th:only-of-type {\n",
       "        vertical-align: middle;\n",
       "    }\n",
       "\n",
       "    .dataframe tbody tr th {\n",
       "        vertical-align: top;\n",
       "    }\n",
       "\n",
       "    .dataframe thead th {\n",
       "        text-align: right;\n",
       "    }\n",
       "</style>\n",
       "<table border=\"1\" class=\"dataframe\">\n",
       "  <thead>\n",
       "    <tr style=\"text-align: right;\">\n",
       "      <th></th>\n",
       "      <th>article1</th>\n",
       "      <th>article2</th>\n",
       "      <th>similarity</th>\n",
       "      <th>total_view_count</th>\n",
       "    </tr>\n",
       "  </thead>\n",
       "  <tbody>\n",
       "    <tr>\n",
       "      <th>3</th>\n",
       "      <td>1</td>\n",
       "      <td>8</td>\n",
       "      <td>6.0</td>\n",
       "      <td>85</td>\n",
       "    </tr>\n",
       "    <tr>\n",
       "      <th>228</th>\n",
       "      <td>1</td>\n",
       "      <td>508</td>\n",
       "      <td>6.0</td>\n",
       "      <td>60</td>\n",
       "    </tr>\n",
       "    <tr>\n",
       "      <th>306</th>\n",
       "      <td>1</td>\n",
       "      <td>720</td>\n",
       "      <td>6.0</td>\n",
       "      <td>18</td>\n",
       "    </tr>\n",
       "    <tr>\n",
       "      <th>327</th>\n",
       "      <td>1</td>\n",
       "      <td>764</td>\n",
       "      <td>5.0</td>\n",
       "      <td>46</td>\n",
       "    </tr>\n",
       "    <tr>\n",
       "      <th>112</th>\n",
       "      <td>1</td>\n",
       "      <td>244</td>\n",
       "      <td>5.0</td>\n",
       "      <td>37</td>\n",
       "    </tr>\n",
       "    <tr>\n",
       "      <th>152</th>\n",
       "      <td>1</td>\n",
       "      <td>346</td>\n",
       "      <td>5.0</td>\n",
       "      <td>25</td>\n",
       "    </tr>\n",
       "    <tr>\n",
       "      <th>44</th>\n",
       "      <td>1</td>\n",
       "      <td>89</td>\n",
       "      <td>5.0</td>\n",
       "      <td>24</td>\n",
       "    </tr>\n",
       "    <tr>\n",
       "      <th>297</th>\n",
       "      <td>1</td>\n",
       "      <td>686</td>\n",
       "      <td>5.0</td>\n",
       "      <td>18</td>\n",
       "    </tr>\n",
       "    <tr>\n",
       "      <th>278</th>\n",
       "      <td>1</td>\n",
       "      <td>655</td>\n",
       "      <td>5.0</td>\n",
       "      <td>9</td>\n",
       "    </tr>\n",
       "    <tr>\n",
       "      <th>386</th>\n",
       "      <td>1</td>\n",
       "      <td>941</td>\n",
       "      <td>5.0</td>\n",
       "      <td>6</td>\n",
       "    </tr>\n",
       "  </tbody>\n",
       "</table>\n",
       "</div>"
      ],
      "text/plain": [
       "     article1  article2  similarity  total_view_count\n",
       "3           1         8         6.0                85\n",
       "228         1       508         6.0                60\n",
       "306         1       720         6.0                18\n",
       "327         1       764         5.0                46\n",
       "112         1       244         5.0                37\n",
       "152         1       346         5.0                25\n",
       "44          1        89         5.0                24\n",
       "297         1       686         5.0                18\n",
       "278         1       655         5.0                 9\n",
       "386         1       941         5.0                 6"
      ]
     },
     "execution_count": 378,
     "metadata": {},
     "output_type": "execute_result"
    }
   ],
   "source": [
    "find_similar_articles(1, bag_words_dict_vec=article_bag_of_words_vec)[0:10]"
   ]
  },
  {
   "cell_type": "code",
   "execution_count": 381,
   "metadata": {},
   "outputs": [],
   "source": [
    "# this case is content base recommendation, assuming user has seen specific article_id \n",
    "# the neighbors are suggested to the users\n",
    "def make_content_recs(user_id, article_id, bag_words_dict_vec=article_bag_of_words_vec, df=df, n_rec=10):\n",
    "    '''\n",
    "    INPUT:\n",
    "    user_id - (int)  user_id \n",
    "    article_id - (int) a article_id\n",
    "    ag_words_dict_vec - a dictionary for each article_id to a bag of words\n",
    "    df - dataframe of user/article viewing data\n",
    "    n_rec - (int) number of recommendations\n",
    "    \n",
    "    OUTPUT:\n",
    "    rec_ids - (list) a list of recommendation id\n",
    "    rec_names - (list) a list of recommnedation name\n",
    "\n",
    "    Description:\n",
    "    report the top n_rec recommendations similar to article_id sorted by similarity in content\n",
    "    and then total viewing count\n",
    "    Note:\n",
    "    user_id has no active impact on suggestion, this role is given to article_id\n",
    "    '''\n",
    "    try:\n",
    "        \n",
    "        rec_ids = find_similar_articles(article_id, bag_words_dict_vec=article_bag_of_words_vec, df=df)[0: n_rec]\\\n",
    "                  .article2.values\n",
    "        rec_names = get_article_names(rec_ids)\n",
    "        return rec_ids, rec_names\n",
    "    except:\n",
    "        return None"
   ]
  },
  {
   "cell_type": "code",
   "execution_count": 382,
   "metadata": {},
   "outputs": [
    {
     "data": {
      "text/plain": [
       "(array([  8, 508, 720, 764, 244, 346,  89, 686, 655, 941], dtype=int64),\n",
       " ['data science bowl 2017',\n",
       "  'data science in the cloud',\n",
       "  'data visualization playbook: telling the data story',\n",
       "  'tidy data in python',\n",
       "  'notebooks: a power tool for data scientists',\n",
       "  'fighting gerrymandering: using data science to draw fairer congressional districts',\n",
       "  'top 20 r machine learning and data science packages',\n",
       "  'score a predictive model built with ibm spss modeler, wml & dsx',\n",
       "  'create a project for watson machine learning in dsx',\n",
       "  'a fast on-disk format for data frames for r and python, powered by apache arrow'])"
      ]
     },
     "execution_count": 382,
     "metadata": {},
     "output_type": "execute_result"
    }
   ],
   "source": [
    "make_content_recs(1, 1, bag_words_dict_vec=article_bag_of_words_vec, df=df, n_rec=10)"
   ]
  },
  {
   "cell_type": "markdown",
   "metadata": {},
   "source": [
    "`2.` Now that you have put together your content-based recommendation system, use the cell below to write a summary explaining how your content based recommender works.  Do you see any possible improvements that could be made to your function?  Is there anything novel about your content based recommender?\n",
    "\n"
   ]
  },
  {
   "cell_type": "markdown",
   "metadata": {},
   "source": [
    "### This part is NOT REQUIRED to pass this project.  However, you may choose to take this on as an extra way to show off your skills."
   ]
  },
  {
   "cell_type": "markdown",
   "metadata": {},
   "source": [
    "**Write an explanation of your content based recommendation system here.**"
   ]
  },
  {
   "cell_type": "markdown",
   "metadata": {},
   "source": [
    "`3.` Use your content-recommendation system to make recommendations for the below scenarios based on the comments.  Again no tests are provided here, because there isn't one right answer that could be used to find these content based recommendations.\n",
    "\n",
    "### This part is NOT REQUIRED to pass this project.  However, you may choose to take this on as an extra way to show off your skills."
   ]
  },
  {
   "cell_type": "markdown",
   "metadata": {},
   "source": [
    "** brand new user can just go with most popular items as described in rank-base\n",
    "additional sorting by number of total views **"
   ]
  },
  {
   "cell_type": "code",
   "execution_count": 385,
   "metadata": {},
   "outputs": [
    {
     "data": {
      "text/plain": [
       "(array([1047,  349,  379, 1000,  260,  508,  152,  695,  184,  793],\n",
       "       dtype=int64),\n",
       " ['a comparison of logistic regression and naive bayes ',\n",
       "  'ibm data science experience white paper - sparkr transforming r into a tool for big data analytics',\n",
       "  'data structures related to machine learning algorithms',\n",
       "  'recommender systems: approaches & algorithms',\n",
       "  'the machine learning database',\n",
       "  'data science in the cloud',\n",
       "  'how to solve 90% of nlp problems',\n",
       "  'excel files: loading from object storage — python',\n",
       "  'improving the roi of big data and analytics through leveraging new sources of data',\n",
       "  '10 powerful features on watson data platform, no coding necessary'])"
      ]
     },
     "execution_count": 385,
     "metadata": {},
     "output_type": "execute_result"
    }
   ],
   "source": [
    "# recommendation belong for user_id =1 and article=3\n",
    "make_content_recs(1, 3, bag_words_dict_vec=article_bag_of_words_vec, df=df, n_rec=10)"
   ]
  },
  {
   "cell_type": "code",
   "execution_count": 384,
   "metadata": {},
   "outputs": [
    {
     "name": "stdout",
     "output_type": "stream",
     "text": [
      "try an article id belong to the df_content (article info file)\n"
     ]
    }
   ],
   "source": [
    "make_content_recs(1, 1427, bag_words_dict_vec=article_bag_of_words_vec, df=df, n_rec=10)"
   ]
  },
  {
   "cell_type": "markdown",
   "metadata": {},
   "source": [
    "### <a class=\"anchor\" id=\"Matrix-Fact\">Part V: Matrix Factorization</a>\n",
    "\n",
    "In this part of the notebook, you will build use matrix factorization to make article recommendations to the users on the IBM Watson Studio platform.\n",
    "\n",
    "`1.` You should have already created a **user_item** matrix above in **question 1** of **Part III** above.  This first question here will just require that you run the cells to get things set up for the rest of **Part V** of the notebook. "
   ]
  },
  {
   "cell_type": "code",
   "execution_count": 94,
   "metadata": {},
   "outputs": [],
   "source": [
    "# Load the matrix here\n",
    "user_item_matrix_udacity = pd.read_pickle('user_item_matrix.p')"
   ]
  },
  {
   "cell_type": "code",
   "execution_count": 95,
   "metadata": {},
   "outputs": [
    {
     "data": {
      "text/html": [
       "<div>\n",
       "<style scoped>\n",
       "    .dataframe tbody tr th:only-of-type {\n",
       "        vertical-align: middle;\n",
       "    }\n",
       "\n",
       "    .dataframe tbody tr th {\n",
       "        vertical-align: top;\n",
       "    }\n",
       "\n",
       "    .dataframe thead th {\n",
       "        text-align: right;\n",
       "    }\n",
       "</style>\n",
       "<table border=\"1\" class=\"dataframe\">\n",
       "  <thead>\n",
       "    <tr style=\"text-align: right;\">\n",
       "      <th>article_id</th>\n",
       "      <th>0.0</th>\n",
       "      <th>100.0</th>\n",
       "      <th>1000.0</th>\n",
       "      <th>1004.0</th>\n",
       "      <th>1006.0</th>\n",
       "      <th>1008.0</th>\n",
       "      <th>101.0</th>\n",
       "      <th>1014.0</th>\n",
       "      <th>1015.0</th>\n",
       "      <th>1016.0</th>\n",
       "      <th>...</th>\n",
       "      <th>977.0</th>\n",
       "      <th>98.0</th>\n",
       "      <th>981.0</th>\n",
       "      <th>984.0</th>\n",
       "      <th>985.0</th>\n",
       "      <th>986.0</th>\n",
       "      <th>990.0</th>\n",
       "      <th>993.0</th>\n",
       "      <th>996.0</th>\n",
       "      <th>997.0</th>\n",
       "    </tr>\n",
       "    <tr>\n",
       "      <th>user_id</th>\n",
       "      <th></th>\n",
       "      <th></th>\n",
       "      <th></th>\n",
       "      <th></th>\n",
       "      <th></th>\n",
       "      <th></th>\n",
       "      <th></th>\n",
       "      <th></th>\n",
       "      <th></th>\n",
       "      <th></th>\n",
       "      <th></th>\n",
       "      <th></th>\n",
       "      <th></th>\n",
       "      <th></th>\n",
       "      <th></th>\n",
       "      <th></th>\n",
       "      <th></th>\n",
       "      <th></th>\n",
       "      <th></th>\n",
       "      <th></th>\n",
       "      <th></th>\n",
       "    </tr>\n",
       "  </thead>\n",
       "  <tbody>\n",
       "    <tr>\n",
       "      <th>1</th>\n",
       "      <td>0.0</td>\n",
       "      <td>0.0</td>\n",
       "      <td>0.0</td>\n",
       "      <td>0.0</td>\n",
       "      <td>0.0</td>\n",
       "      <td>0.0</td>\n",
       "      <td>0.0</td>\n",
       "      <td>0.0</td>\n",
       "      <td>0.0</td>\n",
       "      <td>0.0</td>\n",
       "      <td>...</td>\n",
       "      <td>0.0</td>\n",
       "      <td>0.0</td>\n",
       "      <td>1.0</td>\n",
       "      <td>0.0</td>\n",
       "      <td>0.0</td>\n",
       "      <td>0.0</td>\n",
       "      <td>0.0</td>\n",
       "      <td>0.0</td>\n",
       "      <td>0.0</td>\n",
       "      <td>0.0</td>\n",
       "    </tr>\n",
       "    <tr>\n",
       "      <th>2</th>\n",
       "      <td>0.0</td>\n",
       "      <td>0.0</td>\n",
       "      <td>0.0</td>\n",
       "      <td>0.0</td>\n",
       "      <td>0.0</td>\n",
       "      <td>0.0</td>\n",
       "      <td>0.0</td>\n",
       "      <td>0.0</td>\n",
       "      <td>0.0</td>\n",
       "      <td>0.0</td>\n",
       "      <td>...</td>\n",
       "      <td>0.0</td>\n",
       "      <td>0.0</td>\n",
       "      <td>0.0</td>\n",
       "      <td>0.0</td>\n",
       "      <td>0.0</td>\n",
       "      <td>0.0</td>\n",
       "      <td>0.0</td>\n",
       "      <td>0.0</td>\n",
       "      <td>0.0</td>\n",
       "      <td>0.0</td>\n",
       "    </tr>\n",
       "    <tr>\n",
       "      <th>3</th>\n",
       "      <td>0.0</td>\n",
       "      <td>0.0</td>\n",
       "      <td>0.0</td>\n",
       "      <td>0.0</td>\n",
       "      <td>0.0</td>\n",
       "      <td>0.0</td>\n",
       "      <td>0.0</td>\n",
       "      <td>0.0</td>\n",
       "      <td>0.0</td>\n",
       "      <td>0.0</td>\n",
       "      <td>...</td>\n",
       "      <td>1.0</td>\n",
       "      <td>0.0</td>\n",
       "      <td>0.0</td>\n",
       "      <td>0.0</td>\n",
       "      <td>0.0</td>\n",
       "      <td>0.0</td>\n",
       "      <td>0.0</td>\n",
       "      <td>0.0</td>\n",
       "      <td>0.0</td>\n",
       "      <td>0.0</td>\n",
       "    </tr>\n",
       "    <tr>\n",
       "      <th>4</th>\n",
       "      <td>0.0</td>\n",
       "      <td>0.0</td>\n",
       "      <td>0.0</td>\n",
       "      <td>0.0</td>\n",
       "      <td>0.0</td>\n",
       "      <td>0.0</td>\n",
       "      <td>0.0</td>\n",
       "      <td>0.0</td>\n",
       "      <td>0.0</td>\n",
       "      <td>0.0</td>\n",
       "      <td>...</td>\n",
       "      <td>0.0</td>\n",
       "      <td>0.0</td>\n",
       "      <td>0.0</td>\n",
       "      <td>0.0</td>\n",
       "      <td>0.0</td>\n",
       "      <td>0.0</td>\n",
       "      <td>0.0</td>\n",
       "      <td>0.0</td>\n",
       "      <td>0.0</td>\n",
       "      <td>0.0</td>\n",
       "    </tr>\n",
       "    <tr>\n",
       "      <th>5</th>\n",
       "      <td>0.0</td>\n",
       "      <td>0.0</td>\n",
       "      <td>0.0</td>\n",
       "      <td>0.0</td>\n",
       "      <td>0.0</td>\n",
       "      <td>0.0</td>\n",
       "      <td>0.0</td>\n",
       "      <td>0.0</td>\n",
       "      <td>0.0</td>\n",
       "      <td>0.0</td>\n",
       "      <td>...</td>\n",
       "      <td>0.0</td>\n",
       "      <td>0.0</td>\n",
       "      <td>0.0</td>\n",
       "      <td>0.0</td>\n",
       "      <td>0.0</td>\n",
       "      <td>0.0</td>\n",
       "      <td>0.0</td>\n",
       "      <td>0.0</td>\n",
       "      <td>0.0</td>\n",
       "      <td>0.0</td>\n",
       "    </tr>\n",
       "  </tbody>\n",
       "</table>\n",
       "<p>5 rows × 714 columns</p>\n",
       "</div>"
      ],
      "text/plain": [
       "article_id  0.0  100.0  1000.0  1004.0  1006.0  1008.0  101.0  1014.0  1015.0  \\\n",
       "user_id                                                                         \n",
       "1           0.0    0.0     0.0     0.0     0.0     0.0    0.0     0.0     0.0   \n",
       "2           0.0    0.0     0.0     0.0     0.0     0.0    0.0     0.0     0.0   \n",
       "3           0.0    0.0     0.0     0.0     0.0     0.0    0.0     0.0     0.0   \n",
       "4           0.0    0.0     0.0     0.0     0.0     0.0    0.0     0.0     0.0   \n",
       "5           0.0    0.0     0.0     0.0     0.0     0.0    0.0     0.0     0.0   \n",
       "\n",
       "article_id  1016.0  ...    977.0  98.0  981.0  984.0  985.0  986.0  990.0  \\\n",
       "user_id             ...                                                     \n",
       "1              0.0  ...      0.0   0.0    1.0    0.0    0.0    0.0    0.0   \n",
       "2              0.0  ...      0.0   0.0    0.0    0.0    0.0    0.0    0.0   \n",
       "3              0.0  ...      1.0   0.0    0.0    0.0    0.0    0.0    0.0   \n",
       "4              0.0  ...      0.0   0.0    0.0    0.0    0.0    0.0    0.0   \n",
       "5              0.0  ...      0.0   0.0    0.0    0.0    0.0    0.0    0.0   \n",
       "\n",
       "article_id  993.0  996.0  997.0  \n",
       "user_id                          \n",
       "1             0.0    0.0    0.0  \n",
       "2             0.0    0.0    0.0  \n",
       "3             0.0    0.0    0.0  \n",
       "4             0.0    0.0    0.0  \n",
       "5             0.0    0.0    0.0  \n",
       "\n",
       "[5 rows x 714 columns]"
      ]
     },
     "execution_count": 95,
     "metadata": {},
     "output_type": "execute_result"
    }
   ],
   "source": [
    "# quick look at the matrix\n",
    "user_item_matrix_udacity.head()"
   ]
  },
  {
   "cell_type": "markdown",
   "metadata": {},
   "source": [
    "`2.` In this situation, you can use Singular Value Decomposition from [numpy](https://docs.scipy.org/doc/numpy-1.14.0/reference/generated/numpy.linalg.svd.html) on the user-item matrix.  Use the cell to perform SVD, and explain why this is different than in the lesson."
   ]
  },
  {
   "cell_type": "code",
   "execution_count": 96,
   "metadata": {},
   "outputs": [
    {
     "data": {
      "text/plain": [
       "((5149, 5149), (714,), (714, 714))"
      ]
     },
     "execution_count": 96,
     "metadata": {},
     "output_type": "execute_result"
    }
   ],
   "source": [
    "# Perform SVD on the User-Item Matrix Here\n",
    "u, s, vt = np.linalg.svd(user_item_matrix_udacity) \n",
    "u.shape, s.shape, vt.shape"
   ]
  },
  {
   "cell_type": "code",
   "execution_count": 97,
   "metadata": {},
   "outputs": [
    {
     "data": {
      "text/plain": [
       "(5149, 714)"
      ]
     },
     "execution_count": 97,
     "metadata": {},
     "output_type": "execute_result"
    }
   ],
   "source": [
    "user_item_matrix_udacity.shape"
   ]
  },
  {
   "cell_type": "markdown",
   "metadata": {},
   "source": [
    "- In the lesson the user-matrix was filled with rating of the movies, and in case user had not seen the movie the rating was set to NaN. The NaN led to normal SVD method crash, since matrix was not well defined so we had to use FunkSVD to get predicted rating for unseen movies. Here there is no article rating available, and only viewing/not-viewing is important. The not-seen articles by the users set to zero so still a finite number, and matrix become well defined. Therefore, SVD calculation is possible."
   ]
  },
  {
   "cell_type": "markdown",
   "metadata": {},
   "source": [
    "`3.` Now for the tricky part, how do we choose the number of latent features to use?  Running the below cell, you can see that as the number of latent features increases, we obtain a lower error rate on making predictions for the 1 and 0 values in the user-item matrix.  Run the cell below to get an idea of how the accuracy improves as we increase the number of latent features."
   ]
  },
  {
   "cell_type": "code",
   "execution_count": 98,
   "metadata": {},
   "outputs": [
    {
     "data": {
      "text/html": [
       "<div>\n",
       "<style scoped>\n",
       "    .dataframe tbody tr th:only-of-type {\n",
       "        vertical-align: middle;\n",
       "    }\n",
       "\n",
       "    .dataframe tbody tr th {\n",
       "        vertical-align: top;\n",
       "    }\n",
       "\n",
       "    .dataframe thead th {\n",
       "        text-align: right;\n",
       "    }\n",
       "</style>\n",
       "<table border=\"1\" class=\"dataframe\">\n",
       "  <thead>\n",
       "    <tr style=\"text-align: right;\">\n",
       "      <th></th>\n",
       "      <th>1430</th>\n",
       "      <th>1314</th>\n",
       "      <th>1429</th>\n",
       "      <th>1338</th>\n",
       "      <th>1276</th>\n",
       "      <th>1432</th>\n",
       "      <th>593</th>\n",
       "      <th>1185</th>\n",
       "      <th>993</th>\n",
       "      <th>14</th>\n",
       "      <th>...</th>\n",
       "      <th>1135</th>\n",
       "      <th>881</th>\n",
       "      <th>183</th>\n",
       "      <th>655</th>\n",
       "      <th>1233</th>\n",
       "      <th>1156</th>\n",
       "      <th>555</th>\n",
       "      <th>708</th>\n",
       "      <th>575</th>\n",
       "      <th>972</th>\n",
       "    </tr>\n",
       "  </thead>\n",
       "  <tbody>\n",
       "    <tr>\n",
       "      <th>1</th>\n",
       "      <td>1.0</td>\n",
       "      <td>0.0</td>\n",
       "      <td>1.0</td>\n",
       "      <td>0.0</td>\n",
       "      <td>0.0</td>\n",
       "      <td>0.0</td>\n",
       "      <td>0.0</td>\n",
       "      <td>1.0</td>\n",
       "      <td>0.0</td>\n",
       "      <td>0.0</td>\n",
       "      <td>...</td>\n",
       "      <td>0.0</td>\n",
       "      <td>0.0</td>\n",
       "      <td>0.0</td>\n",
       "      <td>0.0</td>\n",
       "      <td>0.0</td>\n",
       "      <td>0.0</td>\n",
       "      <td>0.0</td>\n",
       "      <td>0.0</td>\n",
       "      <td>0.0</td>\n",
       "      <td>0.0</td>\n",
       "    </tr>\n",
       "    <tr>\n",
       "      <th>2</th>\n",
       "      <td>0.0</td>\n",
       "      <td>1.0</td>\n",
       "      <td>0.0</td>\n",
       "      <td>0.0</td>\n",
       "      <td>0.0</td>\n",
       "      <td>0.0</td>\n",
       "      <td>0.0</td>\n",
       "      <td>0.0</td>\n",
       "      <td>0.0</td>\n",
       "      <td>0.0</td>\n",
       "      <td>...</td>\n",
       "      <td>0.0</td>\n",
       "      <td>0.0</td>\n",
       "      <td>0.0</td>\n",
       "      <td>0.0</td>\n",
       "      <td>0.0</td>\n",
       "      <td>0.0</td>\n",
       "      <td>0.0</td>\n",
       "      <td>0.0</td>\n",
       "      <td>0.0</td>\n",
       "      <td>0.0</td>\n",
       "    </tr>\n",
       "    <tr>\n",
       "      <th>3</th>\n",
       "      <td>0.0</td>\n",
       "      <td>1.0</td>\n",
       "      <td>1.0</td>\n",
       "      <td>0.0</td>\n",
       "      <td>0.0</td>\n",
       "      <td>1.0</td>\n",
       "      <td>0.0</td>\n",
       "      <td>0.0</td>\n",
       "      <td>0.0</td>\n",
       "      <td>0.0</td>\n",
       "      <td>...</td>\n",
       "      <td>0.0</td>\n",
       "      <td>0.0</td>\n",
       "      <td>0.0</td>\n",
       "      <td>0.0</td>\n",
       "      <td>0.0</td>\n",
       "      <td>0.0</td>\n",
       "      <td>0.0</td>\n",
       "      <td>0.0</td>\n",
       "      <td>0.0</td>\n",
       "      <td>0.0</td>\n",
       "    </tr>\n",
       "    <tr>\n",
       "      <th>4</th>\n",
       "      <td>0.0</td>\n",
       "      <td>1.0</td>\n",
       "      <td>0.0</td>\n",
       "      <td>1.0</td>\n",
       "      <td>1.0</td>\n",
       "      <td>1.0</td>\n",
       "      <td>0.0</td>\n",
       "      <td>0.0</td>\n",
       "      <td>0.0</td>\n",
       "      <td>0.0</td>\n",
       "      <td>...</td>\n",
       "      <td>0.0</td>\n",
       "      <td>0.0</td>\n",
       "      <td>0.0</td>\n",
       "      <td>0.0</td>\n",
       "      <td>0.0</td>\n",
       "      <td>0.0</td>\n",
       "      <td>0.0</td>\n",
       "      <td>0.0</td>\n",
       "      <td>0.0</td>\n",
       "      <td>0.0</td>\n",
       "    </tr>\n",
       "    <tr>\n",
       "      <th>5</th>\n",
       "      <td>0.0</td>\n",
       "      <td>0.0</td>\n",
       "      <td>0.0</td>\n",
       "      <td>0.0</td>\n",
       "      <td>1.0</td>\n",
       "      <td>0.0</td>\n",
       "      <td>0.0</td>\n",
       "      <td>0.0</td>\n",
       "      <td>0.0</td>\n",
       "      <td>0.0</td>\n",
       "      <td>...</td>\n",
       "      <td>0.0</td>\n",
       "      <td>0.0</td>\n",
       "      <td>0.0</td>\n",
       "      <td>0.0</td>\n",
       "      <td>0.0</td>\n",
       "      <td>0.0</td>\n",
       "      <td>0.0</td>\n",
       "      <td>0.0</td>\n",
       "      <td>0.0</td>\n",
       "      <td>0.0</td>\n",
       "    </tr>\n",
       "  </tbody>\n",
       "</table>\n",
       "<p>5 rows × 714 columns</p>\n",
       "</div>"
      ],
      "text/plain": [
       "   1430  1314  1429  1338  1276  1432  593   1185  993   14    ...   1135  \\\n",
       "1   1.0   0.0   1.0   0.0   0.0   0.0   0.0   1.0   0.0   0.0  ...    0.0   \n",
       "2   0.0   1.0   0.0   0.0   0.0   0.0   0.0   0.0   0.0   0.0  ...    0.0   \n",
       "3   0.0   1.0   1.0   0.0   0.0   1.0   0.0   0.0   0.0   0.0  ...    0.0   \n",
       "4   0.0   1.0   0.0   1.0   1.0   1.0   0.0   0.0   0.0   0.0  ...    0.0   \n",
       "5   0.0   0.0   0.0   0.0   1.0   0.0   0.0   0.0   0.0   0.0  ...    0.0   \n",
       "\n",
       "   881   183   655   1233  1156  555   708   575   972   \n",
       "1   0.0   0.0   0.0   0.0   0.0   0.0   0.0   0.0   0.0  \n",
       "2   0.0   0.0   0.0   0.0   0.0   0.0   0.0   0.0   0.0  \n",
       "3   0.0   0.0   0.0   0.0   0.0   0.0   0.0   0.0   0.0  \n",
       "4   0.0   0.0   0.0   0.0   0.0   0.0   0.0   0.0   0.0  \n",
       "5   0.0   0.0   0.0   0.0   0.0   0.0   0.0   0.0   0.0  \n",
       "\n",
       "[5 rows x 714 columns]"
      ]
     },
     "execution_count": 98,
     "metadata": {},
     "output_type": "execute_result"
    }
   ],
   "source": [
    "# Using my own user_item_matrix is more readable\n",
    "user_item.head()"
   ]
  },
  {
   "cell_type": "code",
   "execution_count": 99,
   "metadata": {
    "scrolled": false
   },
   "outputs": [
    {
     "name": "stdout",
     "output_type": "stream",
     "text": [
      "This calculation that is from Udacity notebook and using df.shape[0] to divide the error seems to be very arbitary\n",
      "By dividing by df.shape[0] only \"1\" entries in user_matrix considered, even when error from all \"0\"/\"1\" cases\n",
      "it is better to divide by max_error that also consideres \"0\" cases\n"
     ]
    },
    {
     "data": {
      "image/png": "[encoded data removed]",
      "text/plain": [
       "<Figure size 432x288 with 1 Axes>"
      ]
     },
     "metadata": {},
     "output_type": "display_data"
    },
    {
     "data": {
      "image/png": "[encoded data removed]",
      "text/plain": [
       "<Figure size 432x288 with 1 Axes>"
      ]
     },
     "metadata": {},
     "output_type": "display_data"
    },
    {
     "data": {
      "image/png": "[encoded data removed]",
      "text/plain": [
       "<Figure size 432x288 with 1 Axes>"
      ]
     },
     "metadata": {},
     "output_type": "display_data"
    }
   ],
   "source": [
    "u, s, vt = np.linalg.svd(user_item) \n",
    "num_latent_feats = np.arange(2,700+10,20)\n",
    "sum_errs = []\n",
    "tolerance = 1e-10\n",
    "acc = []\n",
    "\n",
    "for k in num_latent_feats:\n",
    "    # restructure with k latent features\n",
    "    s_latent, u_latent, vt_latent = np.diag(s[:k]), u[:, :k], vt[:k, :]\n",
    "    \n",
    "    # take dot product\n",
    "    user_item_est = np.around(np.dot(np.dot(u_latent, s_latent), vt_latent))\n",
    "    \n",
    "    # compute error for each prediction to actual value\n",
    "    diffs = np.subtract(user_item, user_item_est)\n",
    "    acc.append((user_item == user_item_est).mean().mean())\n",
    "    \n",
    "    # total errors and keep track of them\n",
    "    err = np.sum(np.sum(np.abs(diffs)))\n",
    "    sum_errs.append(err)\n",
    "\n",
    "# total user/matrix combintation need to be predicted   \n",
    "max_error = user_item.shape[0]*user_item.shape[1]\n",
    "# correct is max_error instead of df.shape[0], if look for accuracy of whole prediction, not just the ones that are 1.0\n",
    "print('This calculation that is from Udacity notebook and using df.shape[0] to divide the error seems to be very arbitary')\n",
    "print('By dividing by df.shape[0] only \"1\" entries in user_matrix considered, even when error from all \"0\"/\"1\" cases')\n",
    "print('it is better to divide by max_error that also consideres \"0\" cases')\n",
    "plt.plot(num_latent_feats, 1 - np.array(sum_errs)/df.shape[0]) \n",
    "plt.xlabel('Number of Latent Features');\n",
    "plt.ylabel('Accuracy using error');\n",
    "plt.title('Accuracy using error vs. Number of Latent Features');\n",
    "plt.grid()\n",
    "plt.ylim([0.0,1.1]);\n",
    "plt.show()\n",
    "\n",
    "plt.plot(num_latent_feats, acc); \n",
    "plt.xlabel('Number of Latent Features');\n",
    "plt.ylabel('Accuracy pure');\n",
    "plt.title('Accuracy pure vs. Number of Latent Features');\n",
    "plt.grid()\n",
    "plt.ylim([0.975,1.01]);\n",
    "plt.show()\n",
    "\n",
    "plt.plot(num_latent_feats, np.array(sum_errs)); \n",
    "plt.xlabel('Number of Latent Features');\n",
    "plt.ylabel('Sum of the errors');\n",
    "plt.title('Sum of the errors vs. Number of Latent Features');\n",
    "plt.grid()\n",
    "plt.show()"
   ]
  },
  {
   "cell_type": "markdown",
   "metadata": {},
   "source": [
    "`4.` From the above, we can't really be sure how many features to use, because simply having a better way to predict the 1's and 0's of the matrix doesn't exactly give us an indication of if we are able to make good recommendations.  Instead, we might split our dataset into a training and test set of data, as shown in the cell below.  \n",
    "\n",
    "Use the code from question 3 to understand the impact on accuracy of the training and test sets of data with different numbers of latent features. Using the split below: \n",
    "\n",
    "* How many users can we make predictions for in the test set?  \n",
    "* How many users are we not able to make predictions for because of the cold start problem?\n",
    "* How many movies can we make predictions for in the test set?  \n",
    "* How many movies are we not able to make predictions for because of the cold start problem?"
   ]
  },
  {
   "cell_type": "code",
   "execution_count": 101,
   "metadata": {},
   "outputs": [],
   "source": [
    "df_train = df.head(40000)\n",
    "df_test = df.tail(5993)\n",
    "\n",
    "def create_test_and_train_user_item(df_train, df_test):\n",
    "    '''\n",
    "    INPUT:\n",
    "    df_train - training dataframe\n",
    "    df_test - test dataframe\n",
    "    \n",
    "    OUTPUT:\n",
    "    user_item_train - a user-item matrix of the training dataframe \n",
    "                      (unique users for each row and unique articles for each column)\n",
    "    user_item_test - a user-item matrix of the testing dataframe \n",
    "                    (unique users for each row and unique articles for each column)\n",
    "    train_idx - all of the train user ids\n",
    "    train_arts - all of the train article ids                    \n",
    "    test_idx - all of the test user ids\n",
    "    test_arts - all of the test article ids\n",
    "    \n",
    "    '''\n",
    "    user_item_train, _ = create_user_item_matrix(df_train)\n",
    "    user_item_test, _ = create_user_item_matrix(df_test)\n",
    "    train_idx = user_item_train.index.values\n",
    "    train_arts = user_item_train.columns.values\n",
    "    test_idx = user_item_test.index.values\n",
    "    test_arts = user_item_test.columns.values\n",
    "    \n",
    "    return user_item_train, user_item_test, train_idx, train_arts, test_idx, test_arts\n",
    "\n",
    "user_item_train, user_item_test, train_idx, train_arts, test_idx, test_arts = create_test_and_train_user_item(df_train, df_test)"
   ]
  },
  {
   "cell_type": "code",
   "execution_count": 102,
   "metadata": {},
   "outputs": [
    {
     "name": "stdout",
     "output_type": "stream",
     "text": [
      "number of unique users in train 4487\n",
      "number of unique users in test 682\n",
      "number of unique overlap users in train/test 20\n",
      "number of unique users in test but not in train 662\n"
     ]
    }
   ],
   "source": [
    "print('number of unique users in train', len(user_item_train.index.values))\n",
    "print('number of unique users in test', len(user_item_test.index.values))\n",
    "print('number of unique overlap users in train/test', len(np.intersect1d(user_item_train.index.values, user_item_test.index.values)))\n",
    "print('number of unique users in test but not in train', len(np.setdiff1d(user_item_test.index.values, user_item_train.index.values)))"
   ]
  },
  {
   "cell_type": "code",
   "execution_count": 103,
   "metadata": {},
   "outputs": [
    {
     "name": "stdout",
     "output_type": "stream",
     "text": [
      "number of unique articles in train 714\n",
      "number of unique articles in test 574\n",
      "number of unique overlap articles in train/test 574\n",
      "number of unique in articles in test but not in train 0\n"
     ]
    }
   ],
   "source": [
    "print('number of unique articles in train', len(user_item_train.columns.values))\n",
    "print('number of unique articles in test', len(user_item_test.columns.values))\n",
    "print('number of unique overlap articles in train/test', len(np.intersect1d(user_item_train.columns.values, user_item_test.columns.values)))\n",
    "print('number of unique in articles in test but not in train', len(np.setdiff1d(user_item_test.columns.values, user_item_train.columns.values)))"
   ]
  },
  {
   "cell_type": "code",
   "execution_count": 104,
   "metadata": {},
   "outputs": [
    {
     "name": "stdout",
     "output_type": "stream",
     "text": [
      "Awesome job!  That's right!  All of the test movies are in the training data, but there are only 20 test users that were also in the training set.  All of the other users that are in the test set we have no data on.  Therefore, we cannot make predictions for these users using SVD.\n"
     ]
    }
   ],
   "source": [
    "# Replace the values in the dictionary below\n",
    "a = 662 \n",
    "b = 574 \n",
    "c = 20 \n",
    "d = 0 \n",
    "\n",
    "\n",
    "sol_4_dict = {\n",
    "    'How many users can we make predictions for in the test set?': c, \n",
    "    'How many users in the test set are we not able to make predictions for because of the cold start problem?': a, \n",
    "    'How many movies can we make predictions for in the test set?': b,\n",
    "    'How many movies in the test set are we not able to make predictions for because of the cold start problem?': d\n",
    "}\n",
    "\n",
    "t.sol_4_test(sol_4_dict)"
   ]
  },
  {
   "cell_type": "markdown",
   "metadata": {},
   "source": [
    "`5.` Now use the **user_item_train** dataset from above to find **U**, **S**, and **V** transpose using SVD. Then find the subset of rows in the **user_item_test** dataset that you can predict using this matrix decomposition with different numbers of latent features to see how many features makes sense to keep based on the accuracy on the test data. This will require combining what was done in questions `2` - `4`.\n",
    "\n",
    "Use the cells below to explore how well SVD works towards making predictions for recommendations on the test data.  "
   ]
  },
  {
   "cell_type": "code",
   "execution_count": 107,
   "metadata": {},
   "outputs": [
    {
     "name": "stdout",
     "output_type": "stream",
     "text": [
      "Accuracy using error, this approach is not ideal either, due to very unbalance data. Better is using F1_score.\n"
     ]
    },
    {
     "data": {
      "image/png": "[encoded data removed]",
      "text/plain": [
       "<Figure size 432x288 with 1 Axes>"
      ]
     },
     "metadata": {},
     "output_type": "display_data"
    },
    {
     "name": "stdout",
     "output_type": "stream",
     "text": [
      "Accuracy by matched counts/consistent with error\n",
      " however, again this approach is not ideal either, due to very unbalance data. Better is using F1_score.\n"
     ]
    },
    {
     "data": {
      "image/png": "[encoded data removed]",
      "text/plain": [
       "<Figure size 432x288 with 1 Axes>"
      ]
     },
     "metadata": {},
     "output_type": "display_data"
    },
    {
     "name": "stdout",
     "output_type": "stream",
     "text": [
      "Using f1_score shows the unbalance impact,\n",
      " The F1_score shows poor performance on the test set. Need cross-validation to check consistency\n"
     ]
    },
    {
     "data": {
      "image/png": "[encoded data removed]",
      "text/plain": [
       "<Figure size 432x288 with 1 Axes>"
      ]
     },
     "metadata": {},
     "output_type": "display_data"
    }
   ],
   "source": [
    "# SVD on train set\n",
    "u_train, s_train, vt_train = np.linalg.svd(user_item_train) \n",
    "num_latent_feats = np.arange(10,700+10,20)\n",
    "\n",
    "sum_errs_train_all = []\n",
    "sum_errs_train = []\n",
    "sum_errs_test = []\n",
    "acc_train_all = []\n",
    "acc_train = []\n",
    "acc_test = []\n",
    "tolerance = 1e-10\n",
    "\n",
    "f1_score_train_all = []\n",
    "f1_score_train = []\n",
    "f1_score_test = []\n",
    "\n",
    "for k in num_latent_feats:\n",
    "    # train/test common 20 overlap userids\n",
    "    overlap_idx = np.intersect1d(train_idx, test_idx)\n",
    "    # train/test common 574 overlap articles\n",
    "    overlap_arts = np.intersect1d(train_arts, test_arts)\n",
    "    # restructure with k latent features\n",
    "    s_latent, u_latent, vt_latent = np.diag(s_train[:k]), u_train[:, :k], vt_train[:k, :]\n",
    "    \n",
    "    # take dot product train\n",
    "    user_item_est = np.around(np.dot(np.dot(u_latent, s_latent), vt_latent))\n",
    "    # make df from reconstrcut\n",
    "    user_item_est_df = pd.DataFrame(user_item_est, index=train_idx, columns=train_arts)\n",
    "    # get 20 common user from original train\n",
    "    train_20_actual = user_item_train.loc[overlap_idx, overlap_arts]\n",
    "    # get 20 common user from reconstruct\n",
    "    train_20_est = user_item_est_df.loc[overlap_idx, overlap_arts]\n",
    "    # test set\n",
    "    test_20_actual = user_item_test.loc[overlap_idx, overlap_arts]\n",
    "    # get 20 common user from reconstruct\n",
    "    test_20_est = user_item_est_df.loc[overlap_idx, overlap_arts]    \n",
    "    \n",
    "    # compute error for each prediction to actual value\n",
    "    # all train\n",
    "    diffs_train_all = np.subtract(user_item_train, user_item_est_df)\n",
    "    # train for 20 common user\n",
    "    diffs_train = np.subtract(train_20_actual, train_20_est)\n",
    "    # test for 20 common user\n",
    "    diffs_test = np.subtract(test_20_actual, test_20_est)\n",
    "\n",
    "    # total errors and keep track of them\n",
    "    # all train\n",
    "    err_train_all = np.sum(np.sum(np.abs(diffs_train_all)))\n",
    "    # train for 20 common user\n",
    "    err_train = np.sum(np.sum(np.abs(diffs_train)))\n",
    "    # test for 20 common user    \n",
    "    err_test = np.sum(np.sum(np.abs(diffs_test)))\n",
    "    # all train    \n",
    "    sum_errs_train_all.append(err_train_all)\n",
    "    # train for 20 common user   \n",
    "    sum_errs_train.append(err_train)\n",
    "    # test for 20 common user       \n",
    "    sum_errs_test.append(err_test)\n",
    "\n",
    "    # Accuracy\n",
    "    # all train\n",
    "    acc_train_all.append((user_item_train == user_item_est_df).mean().mean())\n",
    "    # train 20 common\n",
    "    acc_train.append((train_20_actual == train_20_est).mean().mean())\n",
    "    # test 20 common\n",
    "    acc_test.append((test_20_actual == test_20_est).mean().mean())\n",
    "    \n",
    "    y_actual_train_all = np.abs(user_item_train.astype('int64')).as_matrix()\n",
    "    y_pred_train_all = np.abs(user_item_est_df.astype('int64')).as_matrix()\n",
    "    y_actual_train = np.abs(train_20_actual.astype('int64')).as_matrix()\n",
    "    y_pred_train = np.abs(train_20_est.astype('int64')).as_matrix()\n",
    "    y_actual_test = np.abs(test_20_actual.astype('int64')).as_matrix()\n",
    "    y_pred_test = np.abs(test_20_est.astype('int64')).as_matrix()  \n",
    "    \n",
    "    # f1 score for all train/ 20 common train/20 common test\n",
    "    f1_score_train_all.append(f1_score(y_actual_train_all.flatten(), y_pred_train_all.flatten(), average='micro'))\n",
    "    f1_score_train.append(f1_score(y_actual_train.flatten(), y_pred_train.flatten()))\n",
    "    f1_score_test.append(f1_score(y_actual_test.flatten(), y_pred_test.flatten()))\n",
    "    \n",
    "\n",
    "print('Accuracy using error, this approach is not ideal either, due to very unbalance data. Better is using F1_score.')\n",
    "plt.plot(num_latent_feats, 1 - np.array(sum_errs_train_all)/(user_item_train.shape[0]*user_item_train.shape[1]))\n",
    "plt.plot(num_latent_feats, 1 - np.array(sum_errs_train)/(train_20_actual.shape[0]*train_20_actual.shape[1])) #  replaced 1 - np.array(sum_errs)/df.shape[0]\n",
    "plt.plot(num_latent_feats, 1 - np.array(sum_errs_test)/(test_20_actual.shape[0]*test_20_actual.shape[1]))\n",
    "plt.xlabel('Number of Latent Features');\n",
    "plt.ylabel('Accuracy from error');\n",
    "plt.title('Accuracy from error vs. Number of Latent Features for 20 common ids');\n",
    "plt.legend(['train_all_ids', 'train_20common_ids', 'test_20common_ids'])\n",
    "plt.grid()\n",
    "plt.show()\n",
    "print('Accuracy by matched counts/consistent with error\\n',\n",
    "'however, again this approach is not ideal either, due to very unbalance data. Better is using F1_score.')\n",
    "plt.plot(num_latent_feats, acc_train_all)\n",
    "plt.plot(num_latent_feats, acc_train)\n",
    "plt.plot(num_latent_feats, acc_test)\n",
    "plt.xlabel('Number of Latent Features');\n",
    "plt.ylabel('Accuracy pure');\n",
    "plt.title('Accuracy pure vs. Number of Latent Features for 20 common ids');\n",
    "plt.legend(['train_all_ids', 'train_20common_ids', 'test_20common_ids'])\n",
    "plt.grid()\n",
    "plt.show()\n",
    "\n",
    "print('Using f1_score shows the unbalance impact,\\n',\n",
    "'The F1_score shows poor performance on the test set. Need cross-validation to check consistency')\n",
    "plt.plot(num_latent_feats, f1_score_train_all)\n",
    "plt.plot(num_latent_feats, f1_score_train)\n",
    "plt.plot(num_latent_feats, f1_score_test)\n",
    "plt.xlabel('Number of Latent Features');\n",
    "plt.ylabel('F1_score');\n",
    "plt.title('F1_score vs. Number of Latent Features for 20 common ids');\n",
    "plt.legend(['train_all_ids', 'train_20common_ids', 'test_20common_ids'])\n",
    "plt.grid()\n",
    "plt.show()\n"
   ]
  },
  {
   "cell_type": "markdown",
   "metadata": {
    "collapsed": true
   },
   "source": [
    "`6.` Use the cell below to comment on the results you found in the previous question. Given the circumstances of your results, discuss what you might do to determine if the recommendations you make with any of the above recommendation systems are an improvement to how users currently find articles? "
   ]
  },
  {
   "cell_type": "markdown",
   "metadata": {},
   "source": [
    "- First the overlap samples between the train and test set is very very small (20 users) to get a concrete conclusion on the performance of test data. Accuracy values checked with sum of the error as well number of matched predictions, they are consistent. Based on the results on the test data, accuracy of the train set shows an overfitting, the test set accuracy continues to deline and saturate at around 300 latent features, one might decide to not add more latent features over 300. Beyond that there is no further changes neither to train or test accuracy. The accuracy values specially for the test data should be taken with a grain of salt. The user_item matrix is highly unbalanced and the very high accuracy >90% are dominated by predicting the \"0\" cases correctly, when user has not viewed the article. In an ideal case, one would hope that model predict the \"1\"s more, which are cases that article is viewed. To get an estimate on this F1_Score is also tracked and unfortunately shows poor perfromance ~12% on the test set, the F1_score never improves beyond 100 latent feature. Again all these conclusion is dervied from one train/test split. The percentage of test population is about 13% of overall population.\n",
    "\n",
    "\n",
    "- Ways to gain better understanding about the results is: to increase the test sample to about 20-30% of whole population to hopefully get more common users for more reliable predictability. Additionally use cross-validation and check accuracy and more importantly the f1_score/f_beta score with k-folds. To do the k-fold, we divide the data into k-1 training fold, and 1 test fold. In k-1 training fold, build one training user_article matrix and SVD. Then test the accuracy/f1_score/f_beta results on one remaining fold. We can observe the variability between k-folds score. We can also add randomization, and build each k-fold set with a specific random state. Observing all the variations in score with various random state and k-folds gives us capability of our prediction with SVD. The final score is average of k scores, and also random state results for a fully random case that covers all corners for reporting test cases.\n",
    "\n",
    "\n",
    "- One of the issue with this dataset is the absence of timestamp information. It is not clear what is the sequence and order of article being visited by a user in time. User may tend to read certain article and that article persuade him/her to dig even deeper or move on to new topic. Element of time can be additional factor in correlation. Knowing the sequence of article viewing for a neighbor can suggest similar sequence for user, a concept resenbeling time series cases. Also by considering time when dataset is actually divided into train and test case it is better the prediction for the test be in future time (later interactions). In current state this dataset is missing these information.\n",
    "\n",
    "- If there is no recommendation available, users perhaps need to do manually search for particular key work, or randomly pick through list of articles, or pick an article based on suggestion of friend or another user, again not automatic. Randomly picking an article, considering 714 unique article, give very low probability, not feasible\n",
    "\n",
    "\n",
    "- Few extra thoughts: 1) This can be a twist on k-fold is when dividing the data into k-fold, with the k-1 fold do k-1 separate cases of SVD calculation (k-1 cases of training data, each contain 1/k th of data, instead of (k-1)/k). Then common users/matrix combinations between k-1 sets get a majority vote among k-1 cases. The majority voted results then fed into remaining 1 fold test case for common user/matrix. 2) instead of filling the user_matrix with \"0\", we use NaN and follow Simon Funk SVD method but definitely add regularization to total error and include gradients of regularization so to avoid overfitting to the problem.\n"
   ]
  },
  {
   "cell_type": "markdown",
   "metadata": {
    "collapsed": true
   },
   "source": [
    "<a id='conclusions'></a>\n",
    "### Extras\n",
    "Using your workbook, you could now save your recommendations for each user, develop a class to make new predictions and update your results, and make a flask app to deploy your results.  These tasks are beyond what is required for this project.  However, from what you learned in the lessons, you certainly capable of taking these tasks on to improve upon your work here!\n",
    "\n",
    "\n",
    "## Conclusion\n",
    "\n",
    "> Congratulations!  You have reached the end of the Recommendations with IBM project! \n",
    "\n",
    "> **Tip**: Once you are satisfied with your work here, check over your report to make sure that it is satisfies all the areas of the [rubric](https://review.udacity.com/#!/rubrics/2322/view). You should also probably remove all of the \"Tips\" like this one so that the presentation is as polished as possible.\n",
    "\n",
    "\n",
    "## Directions to Submit\n",
    "\n",
    "> Before you submit your project, you need to create a .html or .pdf version of this notebook in the workspace here. To do that, run the code cell below. If it worked correctly, you should get a return code of 0, and you should see the generated .html file in the workspace directory (click on the orange Jupyter icon in the upper left).\n",
    "\n",
    "> Alternatively, you can download this report as .html via the **File** > **Download as** submenu, and then manually upload it into the workspace directory by clicking on the orange Jupyter icon in the upper left, then using the Upload button.\n",
    "\n",
    "> Once you've done this, you can submit your project by clicking on the \"Submit Project\" button in the lower right here. This will create and submit a zip file with this .ipynb doc and the .html or .pdf version you created. Congratulations! "
   ]
  },
  {
   "cell_type": "code",
   "execution_count": null,
   "metadata": {
    "collapsed": true
   },
   "outputs": [],
   "source": [
    "from subprocess import call\n",
    "call(['python', '-m', 'nbconvert', 'Recommendations_with_IBM.ipynb'])"
   ]
  },
  {
   "cell_type": "code",
   "execution_count": null,
   "metadata": {},
   "outputs": [],
   "source": []
  },
  {
   "cell_type": "code",
   "execution_count": null,
   "metadata": {},
   "outputs": [],
   "source": []
  }
 ],
 "metadata": {
  "kernelspec": {
   "display_name": "Python [default]",
   "language": "python",
   "name": "python3"
  },
  "language_info": {
   "codemirror_mode": {
    "name": "ipython",
    "version": 3
   },
   "file_extension": ".py",
   "mimetype": "text/x-python",
   "name": "python",
   "nbconvert_exporter": "python",
   "pygments_lexer": "ipython3",
   "version": "3.6.4"
  }
 },
 "nbformat": 4,
 "nbformat_minor": 2
}
